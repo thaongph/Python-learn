{
 "cells": [
  {
   "cell_type": "markdown",
   "id": "82a67b42",
   "metadata": {},
   "source": [
    "### 1. Write a program that writes 10 random numbers to a file 'numbers.txt'. Each random number should be in the range of 1 through 100. "
   ]
  },
  {
   "cell_type": "code",
   "execution_count": 2,
   "id": "9ad1f6fd",
   "metadata": {},
   "outputs": [],
   "source": [
    "import random"
   ]
  },
  {
   "cell_type": "markdown",
   "id": "f303d1e9",
   "metadata": {},
   "source": [
    "#### Method 1"
   ]
  },
  {
   "cell_type": "code",
   "execution_count": 5,
   "id": "a648f31f",
   "metadata": {},
   "outputs": [],
   "source": [
    "# open file in write mode\n",
    "file_1 = open(\"number.txt\",\"w\")\n",
    "\n",
    "# take 10 random nums and write to the file\n",
    "rand_no_1 = [random.randint(1,100) for _ in range (10)]\n",
    "rand_no_1_str = ', '.join(str(num) for num in rand_no)\n",
    "file_1.write(rand_no_1_str)\n",
    "\n",
    "# close file\n",
    "file_1.close()"
   ]
  },
  {
   "cell_type": "code",
   "execution_count": 6,
   "id": "9d93adb3",
   "metadata": {
    "scrolled": true
   },
   "outputs": [
    {
     "name": "stdout",
     "output_type": "stream",
     "text": [
      "50, 5, 57, 43, 5, 95, 53, 44, 52, 6\n"
     ]
    }
   ],
   "source": [
    "# read file_1\n",
    "\n",
    "infile = open(\"number.txt\", 'r')\n",
    "data = infile.read()\n",
    "infile.close()\n",
    "\n",
    "print(data)"
   ]
  },
  {
   "cell_type": "markdown",
   "id": "ebe5491f",
   "metadata": {},
   "source": [
    "#### Method 2"
   ]
  },
  {
   "cell_type": "code",
   "execution_count": 20,
   "id": "267b0466",
   "metadata": {},
   "outputs": [],
   "source": [
    "# open file in write mode\n",
    "file_2 = open('number(2).txt','w')\n",
    "\n",
    "# write 10 nums to file\n",
    "for i in range(10):\n",
    "    rand_no_2 = random.randrange(1,101)\n",
    "    file_2.write(str(rand_no_2) + \"\\n\")\n",
    "    \n",
    "# close file\n",
    "file_2.close()"
   ]
  },
  {
   "cell_type": "code",
   "execution_count": 21,
   "id": "2cde2f54",
   "metadata": {},
   "outputs": [
    {
     "name": "stdout",
     "output_type": "stream",
     "text": [
      "['24\\n', '79\\n', '27\\n', '60\\n', '99\\n', '31\\n', '92\\n', '68\\n', '52\\n', '84\\n']\n"
     ]
    }
   ],
   "source": [
    "# read file 2 inline\n",
    "\n",
    "with open('number(2).txt', 'r') as f:\n",
    "    data2 = f.readlines()\n",
    "    print(data2)"
   ]
  },
  {
   "cell_type": "code",
   "execution_count": 23,
   "id": "c09fbf90",
   "metadata": {},
   "outputs": [
    {
     "data": {
      "text/plain": [
       "['24', '79', '27', '60', '99', '31', '92', '68', '52', '84']"
      ]
     },
     "execution_count": 23,
     "metadata": {},
     "output_type": "execute_result"
    }
   ],
   "source": [
    "# split characters '\\n' and print into an array\n",
    "\n",
    "array2 = []\n",
    "for i in data2:\n",
    "    data1 = i.split('\\n')\n",
    "    array2.append(data1[])\n",
    "array2"
   ]
  },
  {
   "cell_type": "markdown",
   "id": "a5f16dc1",
   "metadata": {},
   "source": [
    "### 2. Write a program that reads and display all of the numbers stored in the file numbers.txt (created in question 1) and calculates their total."
   ]
  },
  {
   "cell_type": "code",
   "execution_count": 29,
   "id": "0ad6b974",
   "metadata": {},
   "outputs": [
    {
     "name": "stdout",
     "output_type": "stream",
     "text": [
      "Sum of numbers in number(2).txt: 616\n"
     ]
    }
   ],
   "source": [
    "sum_array2 = sum(int(x) for x in array2)\n",
    "print('Sum of numbers in number(2).txt:', sum_array2)"
   ]
  },
  {
   "cell_type": "code",
   "execution_count": 39,
   "id": "463c7ceb",
   "metadata": {},
   "outputs": [
    {
     "name": "stdout",
     "output_type": "stream",
     "text": [
      "Sum of numbers in number.txt: 410\n"
     ]
    }
   ],
   "source": [
    "array1 = [data]\n",
    "sum_array1 = sum(int(x) for x in array1[0].split(','))\n",
    "print('Sum of numbers in number.txt:', sum_array1)"
   ]
  },
  {
   "cell_type": "code",
   "execution_count": 41,
   "id": "33d9ee97",
   "metadata": {},
   "outputs": [
    {
     "name": "stdout",
     "output_type": "stream",
     "text": [
      "24\n",
      "79\n",
      "27\n",
      "60\n",
      "99\n",
      "31\n",
      "92\n",
      "68\n",
      "52\n",
      "84\n"
     ]
    },
    {
     "data": {
      "text/plain": [
       "616"
      ]
     },
     "execution_count": 41,
     "metadata": {},
     "output_type": "execute_result"
    }
   ],
   "source": [
    "total = 0\n",
    "with open('number(2).txt', 'r') as fi:\n",
    "    for i in fi:\n",
    "        num = int(i.strip()) # need to research more about strip()\n",
    "        total += num\n",
    "        print(num)\n",
    "        \n",
    "total"
   ]
  },
  {
   "cell_type": "code",
   "execution_count": null,
   "id": "657e91cc",
   "metadata": {},
   "outputs": [],
   "source": []
  }
 ],
 "metadata": {
  "kernelspec": {
   "display_name": "Python 3 (ipykernel)",
   "language": "python",
   "name": "python3"
  },
  "language_info": {
   "codemirror_mode": {
    "name": "ipython",
    "version": 3
   },
   "file_extension": ".py",
   "mimetype": "text/x-python",
   "name": "python",
   "nbconvert_exporter": "python",
   "pygments_lexer": "ipython3",
   "version": "3.10.9"
  }
 },
 "nbformat": 4,
 "nbformat_minor": 5
}
