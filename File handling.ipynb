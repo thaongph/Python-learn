{
 "cells": [
  {
   "cell_type": "code",
   "execution_count": 16,
   "id": "a648f31f",
   "metadata": {},
   "outputs": [
    {
     "name": "stdout",
     "output_type": "stream",
     "text": [
      "1, 2, 3, 4, 5, 6, 7, 8, 9, 10\n"
     ]
    }
   ],
   "source": [
    "test_file = open(\"number.txt\",\"w\")\n",
    "\n",
    "rand_no = [i for i in range(1,101)][:10]\n",
    "rand_no_str = ', '.join(str(num) for num in rand_no)\n",
    "print(rand_no_str)"
   ]
  },
  {
   "cell_type": "code",
   "execution_count": 17,
   "id": "b46d09a1",
   "metadata": {},
   "outputs": [
    {
     "data": {
      "text/plain": [
       "29"
      ]
     },
     "execution_count": 17,
     "metadata": {},
     "output_type": "execute_result"
    }
   ],
   "source": [
    "test_file.write(rand_no_str)"
   ]
  },
  {
   "cell_type": "code",
   "execution_count": 18,
   "id": "ed926468",
   "metadata": {},
   "outputs": [],
   "source": [
    "test_file.close()"
   ]
  },
  {
   "cell_type": "code",
   "execution_count": 20,
   "id": "9d93adb3",
   "metadata": {},
   "outputs": [
    {
     "name": "stdout",
     "output_type": "stream",
     "text": [
      "1, 2, 3, 4, 5, 6, 7, 8, 9, 10\n"
     ]
    }
   ],
   "source": [
    "# read test_file\n",
    "\n",
    "infile = open(\"number.txt\", 'r')\n",
    "data = infile.read()\n",
    "infile.close()\n",
    "\n",
    "print(data)"
   ]
  },
  {
   "cell_type": "code",
   "execution_count": null,
   "id": "2cde2f54",
   "metadata": {},
   "outputs": [],
   "source": [
    "# note: chưa sử dụng random trong file này --> Nghiên cứu sau"
   ]
  }
 ],
 "metadata": {
  "kernelspec": {
   "display_name": "Python 3 (ipykernel)",
   "language": "python",
   "name": "python3"
  },
  "language_info": {
   "codemirror_mode": {
    "name": "ipython",
    "version": 3
   },
   "file_extension": ".py",
   "mimetype": "text/x-python",
   "name": "python",
   "nbconvert_exporter": "python",
   "pygments_lexer": "ipython3",
   "version": "3.10.9"
  }
 },
 "nbformat": 4,
 "nbformat_minor": 5
}
