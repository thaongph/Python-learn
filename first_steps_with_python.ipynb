{
  "cells": [
    {
      "cell_type": "markdown",
      "metadata": {
        "id": "view-in-github",
        "colab_type": "text"
      },
      "source": [
        "<a href=\"https://colab.research.google.com/github/thaongph/Python-learn/blob/main/first_steps_with_python.ipynb\" target=\"_parent\"><img src=\"https://colab.research.google.com/assets/colab-badge.svg\" alt=\"Open In Colab\"/></a>"
      ]
    },
    {
      "cell_type": "markdown",
      "metadata": {
        "id": "PxEzyHR7oVPD"
      },
      "source": [
        "# First Steps with Python and Jupyter \n",
        "\n",
        "![](https://i.imgur.com/gvSnw4A.png)\n",
        "\n",
        "\n"
      ]
    },
    {
      "cell_type": "code",
      "source": [
        "!git clone https://github.com/thaongph/python-learn.git\n"
      ],
      "metadata": {
        "colab": {
          "base_uri": "https://localhost:8080/"
        },
        "id": "cxs2cmiCyzTc",
        "outputId": "36b98ba0-2ef9-44f5-fd6f-5be4bc9170dd"
      },
      "execution_count": 1,
      "outputs": [
        {
          "output_type": "stream",
          "name": "stdout",
          "text": [
            "Cloning into 'python-learn'...\n",
            "remote: Enumerating objects: 6, done.\u001b[K\n",
            "remote: Counting objects: 100% (6/6), done.\u001b[K\n",
            "remote: Compressing objects: 100% (4/4), done.\u001b[K\n",
            "remote: Total 6 (delta 0), reused 0 (delta 0), pack-reused 0\u001b[K\n",
            "Unpacking objects: 100% (6/6), 12.38 KiB | 3.09 MiB/s, done.\n"
          ]
        }
      ]
    },
    {
      "cell_type": "markdown",
      "metadata": {
        "id": "He_SolTKoVPI"
      },
      "source": [
        "## Performing Arithmetic Operations using Python"
      ]
    },
    {
      "cell_type": "code",
      "execution_count": null,
      "metadata": {
        "id": "qZ6Z2etRoVPJ",
        "outputId": "4d023c8b-18f1-4c88-bb71-bdc895e881f0"
      },
      "outputs": [
        {
          "data": {
            "text/plain": [
              "14"
            ]
          },
          "execution_count": 1,
          "metadata": {},
          "output_type": "execute_result"
        }
      ],
      "source": [
        "2 + 3 + 9"
      ]
    },
    {
      "cell_type": "code",
      "execution_count": null,
      "metadata": {
        "id": "oexefZ-IoVPK",
        "outputId": "0c70b101-cfd5-4bb8-ed5f-9dbf4a98d48d"
      },
      "outputs": [
        {
          "data": {
            "text/plain": [
              "26"
            ]
          },
          "execution_count": 2,
          "metadata": {},
          "output_type": "execute_result"
        }
      ],
      "source": [
        "99 - 73"
      ]
    },
    {
      "cell_type": "code",
      "execution_count": null,
      "metadata": {
        "scrolled": true,
        "id": "HlMfW4T8oVPL",
        "outputId": "1f1dd003-b2c4-4755-8270-b896c9c3707b"
      },
      "outputs": [
        {
          "data": {
            "text/plain": [
              "-33709.28"
            ]
          },
          "execution_count": 3,
          "metadata": {},
          "output_type": "execute_result"
        }
      ],
      "source": [
        "23.54 * -1432"
      ]
    },
    {
      "cell_type": "code",
      "execution_count": null,
      "metadata": {
        "id": "ZmjukiQQoVPL",
        "outputId": "887addb7-0f20-4995-bb2f-80a30b7e15e1"
      },
      "outputs": [
        {
          "data": {
            "text/plain": [
              "14.285714285714286"
            ]
          },
          "execution_count": 4,
          "metadata": {},
          "output_type": "execute_result"
        }
      ],
      "source": [
        "100 / 7"
      ]
    },
    {
      "cell_type": "code",
      "execution_count": null,
      "metadata": {
        "id": "5hLiq73soVPL",
        "outputId": "9f5322be-8dba-4f1e-8a11-830329c5dead"
      },
      "outputs": [
        {
          "data": {
            "text/plain": [
              "14"
            ]
          },
          "execution_count": 5,
          "metadata": {},
          "output_type": "execute_result"
        }
      ],
      "source": [
        "100 // 7"
      ]
    },
    {
      "cell_type": "code",
      "execution_count": null,
      "metadata": {
        "id": "O710l4POoVPM",
        "outputId": "07cb5cbc-9ea9-4f38-8fc4-95f52ec5827b"
      },
      "outputs": [
        {
          "data": {
            "text/plain": [
              "2"
            ]
          },
          "execution_count": 6,
          "metadata": {},
          "output_type": "execute_result"
        }
      ],
      "source": [
        "100 % 7"
      ]
    },
    {
      "cell_type": "code",
      "execution_count": null,
      "metadata": {
        "id": "K0mjNmtroVPM",
        "outputId": "8186bf0a-c8af-4daf-ea37-4f17d11638ae"
      },
      "outputs": [
        {
          "data": {
            "text/plain": [
              "125"
            ]
          },
          "execution_count": 7,
          "metadata": {},
          "output_type": "execute_result"
        }
      ],
      "source": [
        "5 ** 3"
      ]
    },
    {
      "cell_type": "code",
      "execution_count": null,
      "metadata": {
        "id": "RlnJjs4goVPN",
        "outputId": "c665a612-e8e3-4b36-e12f-d14226ea1553"
      },
      "outputs": [
        {
          "data": {
            "text/plain": [
              "1.53125"
            ]
          },
          "execution_count": 8,
          "metadata": {},
          "output_type": "execute_result"
        }
      ],
      "source": [
        "((2 + 5) * (17 - 3)) / (4 ** 3)"
      ]
    },
    {
      "cell_type": "markdown",
      "metadata": {
        "id": "AYweQZyJoVPN"
      },
      "source": [
        "Python supports the following arithmetic operators:\n",
        "\n",
        "| Operator   | Purpose           | Example     | Result    |\n",
        "|------------|-------------------|-------------|-----------|\n",
        "| `+`        | Addition          | `2 + 3`     | `5`       |\n",
        "| `-`        | Subtraction       | `3 - 2`     | `1`       |\n",
        "| `*`        | Multiplication    | `8 * 12`    | `96`      |\n",
        "| `/`        | Division          | `100 / 7`   | `14.28..` |\n",
        "| `//`       | Floor Division    | `100 // 7`  | `14`      |    \n",
        "| `%`        | Modulus/Remainder | `100 % 7`   | `2`       |\n",
        "| `**`       | Exponent          | `5 ** 3`    | `125`     |\n",
        "\n",
        "\n",
        "Try solving some simple problems from this page:\n",
        "https://www.math-only-math.com/worksheet-on-word-problems-on-four-operations.html . \n",
        "\n",
        "You can use the empty cells below and add more cells if required."
      ]
    },
    {
      "cell_type": "markdown",
      "source": [
        "*There are 86 rooms in a school. 4386 students study there. Equal number of students sits in each room?*"
      ],
      "metadata": {
        "id": "H-Wc7d6MqbdC"
      }
    },
    {
      "cell_type": "code",
      "execution_count": 1,
      "metadata": {
        "id": "TpbpqkEGoVPN",
        "colab": {
          "base_uri": "https://localhost:8080/"
        },
        "outputId": "bca24826-4344-421e-a806-90198d1d062c"
      },
      "outputs": [
        {
          "output_type": "execute_result",
          "data": {
            "text/plain": [
              "51.0"
            ]
          },
          "metadata": {},
          "execution_count": 1
        }
      ],
      "source": [
        "4386/86"
      ]
    },
    {
      "cell_type": "code",
      "execution_count": null,
      "metadata": {
        "id": "n1UwmRESoVPO"
      },
      "outputs": [],
      "source": []
    },
    {
      "cell_type": "code",
      "execution_count": null,
      "metadata": {
        "id": "_PMzFivUoVPO"
      },
      "outputs": [],
      "source": []
    },
    {
      "cell_type": "markdown",
      "metadata": {
        "id": "bA1shQ6-oVPO"
      },
      "source": [
        "## Solving multi-step problems using variables\n",
        "\n",
        "Let's try solving the following word problem using Python: \n",
        "\n",
        "> A grocery store sells a bag of ice for $1.25 and makes a 20% profit. If it sells 500 bags of ice, how much total profit does it make?\n",
        "\n",
        "We can list out the information provided and gradually convert the word problem into a mathematical expression that can be evaluated using Python. \n",
        "\n",
        "*Cost of ice bag ($)* = 1.25\n",
        "\n",
        "*Profit margin* = 20% = .2\n",
        "\n",
        "*Profit per bag ($)* = profit margin * cost of ice bag = .2 * 1.25\n",
        "\n",
        "*No. of bags* = 500\n",
        "\n",
        "*Total profit* = no. of bags * profit per bag = 500 * (.2 * 1.25)"
      ]
    },
    {
      "cell_type": "code",
      "execution_count": null,
      "metadata": {
        "id": "esbrA8bhoVPO",
        "outputId": "bacb3471-fd24-45ba-b1a8-8599cb4aecb0"
      },
      "outputs": [
        {
          "data": {
            "text/plain": [
              "125.0"
            ]
          },
          "execution_count": 9,
          "metadata": {},
          "output_type": "execute_result"
        }
      ],
      "source": [
        "500 * (.2 * 1.25)"
      ]
    },
    {
      "cell_type": "code",
      "source": [
        "profit_per_bag = ice_bag_cost * profit_margin\n",
        "ice_bag_cost = 1.25\n",
        "profit_margin = .2\n",
        "profit_per_bag"
      ],
      "metadata": {
        "id": "AFzFa62LtSqn",
        "outputId": "abaaeee9-f23d-4034-dde0-6782ec8fa4c8",
        "colab": {
          "base_uri": "https://localhost:8080/"
        }
      },
      "execution_count": 6,
      "outputs": [
        {
          "output_type": "execute_result",
          "data": {
            "text/plain": [
              "0.25"
            ]
          },
          "metadata": {},
          "execution_count": 6
        }
      ]
    },
    {
      "cell_type": "code",
      "source": [
        "no_of_bag =1000\n",
        "total_profit= profit_per_bag * no_of_bag\n",
        "total_profit"
      ],
      "metadata": {
        "id": "lmHmw64Tt37P",
        "outputId": "3ec7d840-dc5b-49f8-c663-f169736378f0",
        "colab": {
          "base_uri": "https://localhost:8080/"
        }
      },
      "execution_count": 8,
      "outputs": [
        {
          "output_type": "execute_result",
          "data": {
            "text/plain": [
              "250.0"
            ]
          },
          "metadata": {},
          "execution_count": 8
        }
      ]
    },
    {
      "cell_type": "markdown",
      "metadata": {
        "id": "WABzKQkeoVPQ"
      },
      "source": [
        "If you try to view the value of a variable that has not been *defined*, i.e., given a value using the assignment statement `variable_name = value`, Python shows an error."
      ]
    },
    {
      "cell_type": "code",
      "source": [
        "profit"
      ],
      "metadata": {
        "id": "-fk0xMJtuQvP",
        "outputId": "6795a6d9-07a7-4fb2-ee5e-c0487bfac034",
        "colab": {
          "base_uri": "https://localhost:8080/",
          "height": 166
        }
      },
      "execution_count": 9,
      "outputs": [
        {
          "output_type": "error",
          "ename": "NameError",
          "evalue": "ignored",
          "traceback": [
            "\u001b[0;31m---------------------------------------------------------------------------\u001b[0m",
            "\u001b[0;31mNameError\u001b[0m                                 Traceback (most recent call last)",
            "\u001b[0;32m<ipython-input-9-c81ff4e2a41e>\u001b[0m in \u001b[0;36m<cell line: 1>\u001b[0;34m()\u001b[0m\n\u001b[0;32m----> 1\u001b[0;31m \u001b[0mprofit\u001b[0m\u001b[0;34m\u001b[0m\u001b[0;34m\u001b[0m\u001b[0m\n\u001b[0m",
            "\u001b[0;31mNameError\u001b[0m: name 'profit' is not defined"
          ]
        }
      ]
    },
    {
      "cell_type": "markdown",
      "metadata": {
        "id": "AR2gMo22oVPQ"
      },
      "source": [
        "Storing and manipulating data using appropriately named variables is a great way to explain what your code does.\n",
        "\n",
        "Let's display the result of the word problem using a friendly message. We can do this using the `print` *function*.\n",
        "\n",
        "> **Functions**: A function is a reusable set of instructions. It takes one or more inputs, performs certain operations, and often returns an output. Python provides many in-built functions like `print` and also allows us to define our own functions."
      ]
    },
    {
      "cell_type": "code",
      "execution_count": 11,
      "metadata": {
        "id": "UmjFL-XXoVPQ",
        "outputId": "64ee14d9-7b0d-4c49-d712-d02ccea05204",
        "colab": {
          "base_uri": "https://localhost:8080/"
        }
      },
      "outputs": [
        {
          "output_type": "stream",
          "name": "stdout",
          "text": [
            "Total profit  today is $ 250.0\n"
          ]
        }
      ],
      "source": [
        "print(\"Total profit  today is $\", total_profit)"
      ]
    },
    {
      "cell_type": "code",
      "execution_count": null,
      "metadata": {
        "id": "gngmomgKoVPQ",
        "outputId": "9d131619-634d-44cf-eca7-ba986bfdce81"
      },
      "outputs": [
        {
          "name": "stdout",
          "output_type": "stream",
          "text": [
            "The grocery store makes a total profit of $ 125.0\n"
          ]
        }
      ],
      "source": [
        "# Store input data in variables\n",
        "cost_of_ice_bag = 1.25\n",
        "profit_margin = .2\n",
        "number_of_bags = 500\n",
        "\n",
        "# Perform the required calculations\n",
        "profit_per_bag = cost_of_ice_bag * profit_margin\n",
        "total_profit = number_of_bags * profit_per_bag\n",
        "\n",
        "# Display the result\n",
        "print(\"The grocery store makes a total profit of $\", total_profit)"
      ]
    },
    {
      "cell_type": "markdown",
      "metadata": {
        "id": "5RqJxaCYoVPR"
      },
      "source": [
        "Note that we're using the `#` character to add *comments* within our code. \n",
        "\n",
        "> **Comments**: Comments and blank lines are ignored during execution, but they are useful for providing information to humans (including yourself) about what the code does. Comments can be inline (at the end of some code), on a separate line, or even span multiple lines. \n",
        "\n",
        "Inline and single-line comments start with `#`, whereas multi-line comments begin and end with three quotes, i.e. `\"\"\"`. Here are some examples of code comments:"
      ]
    },
    {
      "cell_type": "code",
      "execution_count": 22,
      "metadata": {
        "id": "GKFd5bzzoVPR",
        "colab": {
          "base_uri": "https://localhost:8080/"
        },
        "outputId": "2189d925-1ddf-4342-b3de-09a2f0b9011f"
      },
      "outputs": [
        {
          "output_type": "execute_result",
          "data": {
            "text/plain": [
              "1.0"
            ]
          },
          "metadata": {},
          "execution_count": 22
        }
      ],
      "source": [
        "#note for use \n",
        "1/1"
      ]
    },
    {
      "cell_type": "code",
      "execution_count": null,
      "metadata": {
        "id": "7S1otUTSoVPR"
      },
      "outputs": [],
      "source": [
        "# This comment gets its own line\n",
        "my_least_favorite_number = 3"
      ]
    },
    {
      "cell_type": "code",
      "execution_count": 24,
      "metadata": {
        "id": "i1biybVRoVPR",
        "colab": {
          "base_uri": "https://localhost:8080/"
        },
        "outputId": "62f194df-5ef4-40c8-faf9-2809c62da527"
      },
      "outputs": [
        {
          "output_type": "execute_result",
          "data": {
            "text/plain": [
              "5"
            ]
          },
          "metadata": {},
          "execution_count": 24
        }
      ],
      "source": [
        "example = 5\n",
        "\"\"\"This is a multi-line comment.\n",
        "Write as little or as much as you'd like.\n",
        "\n",
        "Comments are really helpful for people reading\n",
        "your code, but try to keep them short & to-the-point.\n",
        "\n",
        "Also, if you use good variable names, then your code is\n",
        "often self explanatory, and you may not even need comments!\n",
        "\"\"\"\n",
        "\n",
        "example"
      ]
    },
    {
      "cell_type": "markdown",
      "metadata": {
        "id": "bFJXncCfoVPR"
      },
      "source": [
        "\n",
        "\n",
        "> **EXERCISE**: A travel company wants to fly a plane to the Bahamas. Flying the plane costs 5000 dollars. So far, 29 people have signed up for the trip. If the company charges 200 dollars per ticket, what is the profit made by the company? Create variables for each numeric quantity and use appropriate arithmetic operations."
      ]
    },
    {
      "cell_type": "code",
      "execution_count": 25,
      "metadata": {
        "id": "7StegtryoVPR",
        "colab": {
          "base_uri": "https://localhost:8080/"
        },
        "outputId": "95ea5b7a-ccac-4f79-afe7-e84764e347bc"
      },
      "outputs": [
        {
          "output_type": "execute_result",
          "data": {
            "text/plain": [
              "800"
            ]
          },
          "metadata": {},
          "execution_count": 25
        }
      ],
      "source": [
        "29*200-5000"
      ]
    },
    {
      "cell_type": "code",
      "execution_count": 26,
      "metadata": {
        "id": "SNgaCUKwoVPR",
        "colab": {
          "base_uri": "https://localhost:8080/"
        },
        "outputId": "e43bd42a-d41c-4c48-a02c-9bd23fbe045c"
      },
      "outputs": [
        {
          "output_type": "execute_result",
          "data": {
            "text/plain": [
              "800"
            ]
          },
          "metadata": {},
          "execution_count": 26
        }
      ],
      "source": [
        "travelers = 29\n",
        "ticket_price = 200\n",
        "plane_cost = 5000\n",
        "profit_of_the_trip= (travelers * ticket_price )- plane_cost\n",
        "profit_of_the_trip"
      ]
    },
    {
      "cell_type": "markdown",
      "metadata": {
        "id": "zBhZ-vA5oVPR"
      },
      "source": [
        "## Evaluating conditions using Python\n",
        "\n",
        "Apart from arithmetic operations, Python also provides several operations for comparing numbers & variables.\n",
        "\n",
        "| Operator    | Description                                                     |\n",
        "|-------------|-----------------------------------------------------------------|\n",
        "| `==`        | Check if operands are equal                                     |\n",
        "| `!=`        | Check if operands are not equal                                 |\n",
        "| `>`         | Check if left operand is greater than right operand             |\n",
        "| `<`         | Check if left operand is less than right operand                |\n",
        "| `>=`        | Check if left operand is greater than or equal to right operand |\n",
        "| `<=`        | Check if left operand is less than or equal to right operand    |\n",
        "\n",
        "The result of a comparison operation is either `True` or `False` (note the uppercase `T` and `F`). These are special keywords in Python. Let's try out some experiments with comparison operators."
      ]
    },
    {
      "cell_type": "code",
      "execution_count": 31,
      "metadata": {
        "id": "ETi_oQDhoVPS"
      },
      "outputs": [],
      "source": [
        "my_favorite_number = 1\n",
        "my_least_favorite_number = 5\n",
        "a_neutral_number = 3"
      ]
    },
    {
      "cell_type": "code",
      "execution_count": 32,
      "metadata": {
        "id": "ksPujfe8oVPS",
        "outputId": "5e73a3d1-79c6-47b7-d37a-a32318475dcb",
        "colab": {
          "base_uri": "https://localhost:8080/"
        }
      },
      "outputs": [
        {
          "output_type": "execute_result",
          "data": {
            "text/plain": [
              "True"
            ]
          },
          "metadata": {},
          "execution_count": 32
        }
      ],
      "source": [
        "# Equality check - True\n",
        "my_favorite_number == 1"
      ]
    },
    {
      "cell_type": "code",
      "execution_count": null,
      "metadata": {
        "id": "Zo1fs6USoVPS",
        "outputId": "5ae0e695-71f9-4d83-bc69-4ea34b922e8a"
      },
      "outputs": [
        {
          "data": {
            "text/plain": [
              "False"
            ]
          },
          "execution_count": 26,
          "metadata": {},
          "output_type": "execute_result"
        }
      ],
      "source": [
        " # Equality check - False\n",
        "my_favorite_number == my_least_favorite_number"
      ]
    },
    {
      "cell_type": "code",
      "execution_count": null,
      "metadata": {
        "id": "bmKoTFq-oVPS",
        "outputId": "17615f0c-5211-45d4-e733-d7d056845055"
      },
      "outputs": [
        {
          "data": {
            "text/plain": [
              "True"
            ]
          },
          "execution_count": 27,
          "metadata": {},
          "output_type": "execute_result"
        }
      ],
      "source": [
        "# Not equal check - True\n",
        "my_favorite_number != a_neutral_number"
      ]
    },
    {
      "cell_type": "code",
      "execution_count": null,
      "metadata": {
        "id": "70VgN6i_oVPS",
        "outputId": "e11fbc24-759c-4db8-8873-25ff137ee378"
      },
      "outputs": [
        {
          "data": {
            "text/plain": [
              "False"
            ]
          },
          "execution_count": 28,
          "metadata": {},
          "output_type": "execute_result"
        }
      ],
      "source": [
        "# Not equal check - False\n",
        "a_neutral_number != 3"
      ]
    },
    {
      "cell_type": "code",
      "execution_count": null,
      "metadata": {
        "id": "oeobddN1oVPS",
        "outputId": "77fd2e4a-455d-4e20-d1f7-f7348bb3d6fe"
      },
      "outputs": [
        {
          "data": {
            "text/plain": [
              "True"
            ]
          },
          "execution_count": 29,
          "metadata": {},
          "output_type": "execute_result"
        }
      ],
      "source": [
        "# Greater than check - True\n",
        "my_least_favorite_number > a_neutral_number"
      ]
    },
    {
      "cell_type": "code",
      "execution_count": null,
      "metadata": {
        "id": "WOrx4SZzoVPS",
        "outputId": "a3eec867-d65b-4386-e0d1-34b23e07a90a"
      },
      "outputs": [
        {
          "data": {
            "text/plain": [
              "False"
            ]
          },
          "execution_count": 30,
          "metadata": {},
          "output_type": "execute_result"
        }
      ],
      "source": [
        "# Greater than check - False\n",
        "my_favorite_number > my_least_favorite_number"
      ]
    },
    {
      "cell_type": "code",
      "execution_count": null,
      "metadata": {
        "id": "lC0vi9UIoVPS",
        "outputId": "d34e1b7a-0e89-4362-9156-5ceb4cfa1a22"
      },
      "outputs": [
        {
          "data": {
            "text/plain": [
              "True"
            ]
          },
          "execution_count": 31,
          "metadata": {},
          "output_type": "execute_result"
        }
      ],
      "source": [
        "# Less than check - True\n",
        "my_favorite_number < 10"
      ]
    },
    {
      "cell_type": "code",
      "execution_count": null,
      "metadata": {
        "id": "nG165WXjoVPS",
        "outputId": "18098503-8ecc-4699-bc75-9c344ae5013c"
      },
      "outputs": [
        {
          "data": {
            "text/plain": [
              "False"
            ]
          },
          "execution_count": 32,
          "metadata": {},
          "output_type": "execute_result"
        }
      ],
      "source": [
        "# Less than check - False\n",
        "my_least_favorite_number < my_favorite_number"
      ]
    },
    {
      "cell_type": "code",
      "execution_count": null,
      "metadata": {
        "id": "gH7rDz8VoVPS",
        "outputId": "5afe04ae-d152-4368-cdba-6d9072ee65cd"
      },
      "outputs": [
        {
          "data": {
            "text/plain": [
              "True"
            ]
          },
          "execution_count": 33,
          "metadata": {},
          "output_type": "execute_result"
        }
      ],
      "source": [
        "# Greater than or equal check - True\n",
        "my_favorite_number >= 1"
      ]
    },
    {
      "cell_type": "code",
      "execution_count": null,
      "metadata": {
        "id": "mY50dsqMoVPT",
        "outputId": "56fd4dd4-8ba3-466a-b9bc-266f389c0b83"
      },
      "outputs": [
        {
          "data": {
            "text/plain": [
              "False"
            ]
          },
          "execution_count": 34,
          "metadata": {},
          "output_type": "execute_result"
        }
      ],
      "source": [
        "# Greater than or equal check - False\n",
        "my_favorite_number >= 3"
      ]
    },
    {
      "cell_type": "code",
      "execution_count": null,
      "metadata": {
        "id": "DdhMk1IJoVPT",
        "outputId": "97ca963a-aa9a-4ee0-ee41-d81ba9792a27"
      },
      "outputs": [
        {
          "data": {
            "text/plain": [
              "True"
            ]
          },
          "execution_count": 35,
          "metadata": {},
          "output_type": "execute_result"
        }
      ],
      "source": [
        "# Less than or equal check - True\n",
        "3 + 6 <= 9"
      ]
    },
    {
      "cell_type": "code",
      "execution_count": null,
      "metadata": {
        "id": "oLCzhh7soVPT",
        "outputId": "64569a22-efef-49c4-8d9f-1432003a9e5c"
      },
      "outputs": [
        {
          "data": {
            "text/plain": [
              "False"
            ]
          },
          "execution_count": 36,
          "metadata": {},
          "output_type": "execute_result"
        }
      ],
      "source": [
        "# Less than or equal check - False\n",
        "my_favorite_number + a_neutral_number <= 3"
      ]
    },
    {
      "cell_type": "markdown",
      "metadata": {
        "id": "KcnX2Fs7oVPT"
      },
      "source": [
        "Just like arithmetic operations, the result of a comparison operation can also be stored in a variable."
      ]
    },
    {
      "cell_type": "code",
      "execution_count": null,
      "metadata": {
        "id": "oDY_ORdGoVPT",
        "outputId": "3b630edd-1c3f-44ee-d9fe-ad75fa29a36a"
      },
      "outputs": [
        {
          "name": "stdout",
          "output_type": "stream",
          "text": [
            "Is the ice bag expensive? False\n"
          ]
        }
      ],
      "source": [
        "cost_of_ice_bag = 1.25\n",
        "is_ice_bag_expensive = cost_of_ice_bag >= 10\n",
        "print(\"Is the ice bag expensive?\", is_ice_bag_expensive)"
      ]
    },
    {
      "cell_type": "markdown",
      "metadata": {
        "id": "Fr13mfukoVPT"
      },
      "source": [
        "## Combining conditions with logical operator\n",
        "\n",
        "| `a`     | `b`    | `a and b` |\n",
        "|---------|--------|-----------|\n",
        "|  `True` | `True` | `True`    |\n",
        "|  `True` | `False`| `False`   |\n",
        "|  `False`| `True` | `False`   |\n",
        "|  `False`| `False`| `False`   |\n"
      ]
    },
    {
      "cell_type": "code",
      "execution_count": 33,
      "metadata": {
        "scrolled": true,
        "id": "Hbc7Zc5MoVPT",
        "outputId": "8ec5b123-105e-4d34-e890-aa70304f811a",
        "colab": {
          "base_uri": "https://localhost:8080/"
        }
      },
      "outputs": [
        {
          "output_type": "execute_result",
          "data": {
            "text/plain": [
              "1"
            ]
          },
          "metadata": {},
          "execution_count": 33
        }
      ],
      "source": [
        "my_favorite_number"
      ]
    },
    {
      "cell_type": "code",
      "execution_count": null,
      "metadata": {
        "id": "fRIX-Zk_oVPT",
        "outputId": "938c7678-5738-482f-825c-9d3062e59f39"
      },
      "outputs": [
        {
          "data": {
            "text/plain": [
              "True"
            ]
          },
          "execution_count": 39,
          "metadata": {},
          "output_type": "execute_result"
        }
      ],
      "source": [
        "my_favorite_number > 0 and my_favorite_number <= 3"
      ]
    },
    {
      "cell_type": "code",
      "execution_count": null,
      "metadata": {
        "id": "odv9-QLMoVPU",
        "outputId": "7ed93cf3-b433-4583-d638-9bdc58b0055c"
      },
      "outputs": [
        {
          "data": {
            "text/plain": [
              "False"
            ]
          },
          "execution_count": 40,
          "metadata": {},
          "output_type": "execute_result"
        }
      ],
      "source": [
        "my_favorite_number < 0 and my_favorite_number <= 3"
      ]
    },
    {
      "cell_type": "code",
      "execution_count": null,
      "metadata": {
        "id": "WlbYewXwoVPU",
        "outputId": "0e8c5e46-c8bf-4338-b94e-5b53cf0bcb13"
      },
      "outputs": [
        {
          "data": {
            "text/plain": [
              "False"
            ]
          },
          "execution_count": 41,
          "metadata": {},
          "output_type": "execute_result"
        }
      ],
      "source": [
        "my_favorite_number > 0 and my_favorite_number >= 3"
      ]
    },
    {
      "cell_type": "code",
      "execution_count": null,
      "metadata": {
        "id": "fFRvNXmcoVPU",
        "outputId": "188f9184-b81f-4b6d-d143-4e6fed12e086"
      },
      "outputs": [
        {
          "data": {
            "text/plain": [
              "False"
            ]
          },
          "execution_count": 42,
          "metadata": {},
          "output_type": "execute_result"
        }
      ],
      "source": [
        "True and False"
      ]
    },
    {
      "cell_type": "code",
      "execution_count": null,
      "metadata": {
        "id": "edR9yAhioVPU",
        "outputId": "ad4ab8c8-59aa-467d-be0d-e412d64d392a"
      },
      "outputs": [
        {
          "data": {
            "text/plain": [
              "True"
            ]
          },
          "execution_count": 43,
          "metadata": {},
          "output_type": "execute_result"
        }
      ],
      "source": [
        "True and True"
      ]
    },
    {
      "cell_type": "markdown",
      "metadata": {
        "id": "5H1F-JVSoVPU"
      },
      "source": [
        "The `or` operator returns `True` if at least one of the conditions evaluates to `True`. It returns `False` only if both conditions are `False`.\n",
        "\n",
        "| `a`     | `b`    | `a or b`  |\n",
        "|---------|--------|-----------|\n",
        "|  `True` | `True` | `True`    |\n",
        "|  `True` | `False`| `True`    |\n",
        "|  `False`| `True` | `True`    |\n",
        "|  `False`| `False`| `False`   |\n",
        "\n"
      ]
    },
    {
      "cell_type": "code",
      "execution_count": null,
      "metadata": {
        "id": "GFueZzXroVPU"
      },
      "outputs": [],
      "source": [
        "a_neutral_number = 3"
      ]
    },
    {
      "cell_type": "code",
      "execution_count": null,
      "metadata": {
        "id": "KPDts3jboVPU",
        "outputId": "16154429-46ad-4192-fdaf-bcb3dfb4d6d7"
      },
      "outputs": [
        {
          "data": {
            "text/plain": [
              "True"
            ]
          },
          "execution_count": 45,
          "metadata": {},
          "output_type": "execute_result"
        }
      ],
      "source": [
        "a_neutral_number == 3 or my_favorite_number < 0"
      ]
    },
    {
      "cell_type": "code",
      "execution_count": null,
      "metadata": {
        "id": "SxY5WMt7oVPU",
        "outputId": "d1f31488-0133-40c5-ac5b-528d555341e0"
      },
      "outputs": [
        {
          "data": {
            "text/plain": [
              "False"
            ]
          },
          "execution_count": 46,
          "metadata": {},
          "output_type": "execute_result"
        }
      ],
      "source": [
        "a_neutral_number != 3 or my_favorite_number < 0"
      ]
    },
    {
      "cell_type": "code",
      "execution_count": null,
      "metadata": {
        "id": "B3VOb-3WoVPU",
        "outputId": "b006fa6c-9e70-4a3a-cd30-ec9eb36021e4"
      },
      "outputs": [
        {
          "data": {
            "text/plain": [
              "True"
            ]
          },
          "execution_count": 47,
          "metadata": {},
          "output_type": "execute_result"
        }
      ],
      "source": [
        "my_favorite_number < 0 or True"
      ]
    },
    {
      "cell_type": "code",
      "execution_count": null,
      "metadata": {
        "id": "62cXAcJBoVPU",
        "outputId": "a11ccb6a-33f0-42d4-ec6f-daffce111dd6"
      },
      "outputs": [
        {
          "data": {
            "text/plain": [
              "False"
            ]
          },
          "execution_count": 48,
          "metadata": {},
          "output_type": "execute_result"
        }
      ],
      "source": [
        "False or False"
      ]
    },
    {
      "cell_type": "markdown",
      "metadata": {
        "id": "ntGB3F61oVPU"
      },
      "source": [
        "The `not` operator returns `False` if a condition is `True` and `True` if the condition is `False`."
      ]
    },
    {
      "cell_type": "code",
      "execution_count": null,
      "metadata": {
        "id": "k4pDpg_zoVPU",
        "outputId": "aaa52cf0-0a6d-4646-922a-cdd2628f7921"
      },
      "outputs": [
        {
          "data": {
            "text/plain": [
              "False"
            ]
          },
          "execution_count": 49,
          "metadata": {},
          "output_type": "execute_result"
        }
      ],
      "source": [
        "not a_neutral_number == 3"
      ]
    },
    {
      "cell_type": "code",
      "execution_count": null,
      "metadata": {
        "id": "orw4tI2loVPV",
        "outputId": "2c5d59bb-3a85-496d-f934-79e56ba12779"
      },
      "outputs": [
        {
          "data": {
            "text/plain": [
              "True"
            ]
          },
          "execution_count": 50,
          "metadata": {},
          "output_type": "execute_result"
        }
      ],
      "source": [
        "not my_favorite_number < 0"
      ]
    },
    {
      "cell_type": "code",
      "execution_count": null,
      "metadata": {
        "id": "AukZY8YLoVPV",
        "outputId": "fbb34724-b830-4334-8624-8cd472c9c18d"
      },
      "outputs": [
        {
          "data": {
            "text/plain": [
              "True"
            ]
          },
          "execution_count": 51,
          "metadata": {},
          "output_type": "execute_result"
        }
      ],
      "source": [
        "not False"
      ]
    },
    {
      "cell_type": "code",
      "execution_count": null,
      "metadata": {
        "id": "XFsmhrOQoVPV",
        "outputId": "7b2ef391-21b0-484b-c4e7-4d2969617e00"
      },
      "outputs": [
        {
          "data": {
            "text/plain": [
              "False"
            ]
          },
          "execution_count": 52,
          "metadata": {},
          "output_type": "execute_result"
        }
      ],
      "source": [
        "not True"
      ]
    },
    {
      "cell_type": "markdown",
      "metadata": {
        "id": "gmW7prXGoVPV"
      },
      "source": [
        "Logical operators can be combined to form complex conditions. Use round brackets or parentheses `(` and `)` to indicate the order in which logical operators should be applied."
      ]
    },
    {
      "cell_type": "code",
      "execution_count": null,
      "metadata": {
        "id": "hFzFyWkMoVPV",
        "outputId": "2765eb6c-899e-412f-bac7-d45b9c139599"
      },
      "outputs": [
        {
          "data": {
            "text/plain": [
              "True"
            ]
          },
          "execution_count": 53,
          "metadata": {},
          "output_type": "execute_result"
        }
      ],
      "source": [
        "(2 > 3 and 4 <= 5) or not (my_favorite_number < 0 and True)"
      ]
    },
    {
      "cell_type": "code",
      "execution_count": null,
      "metadata": {
        "id": "zxqyQexkoVPV",
        "outputId": "f2060832-6419-4ea9-e43b-726a013a5065"
      },
      "outputs": [
        {
          "data": {
            "text/plain": [
              "False"
            ]
          },
          "execution_count": 54,
          "metadata": {},
          "output_type": "execute_result"
        }
      ],
      "source": [
        "not (True and 0 < 1) or (False and True)"
      ]
    },
    {
      "cell_type": "markdown",
      "metadata": {
        "id": "lubN_LiFoVPV"
      },
      "source": [
        "If parentheses are not used, logical operators are applied from left to right."
      ]
    },
    {
      "cell_type": "code",
      "execution_count": null,
      "metadata": {
        "id": "Jw0NnTVgoVPV",
        "outputId": "a5b0824a-5ce6-4a69-ec71-4acbf0ccb155"
      },
      "outputs": [
        {
          "data": {
            "text/plain": [
              "False"
            ]
          },
          "execution_count": 55,
          "metadata": {},
          "output_type": "execute_result"
        }
      ],
      "source": [
        "not True and 0 < 1 or False and True"
      ]
    },
    {
      "cell_type": "markdown",
      "metadata": {
        "id": "V0rxc8HfoVPV"
      },
      "source": [
        "Experiment with arithmetic, conditional and logical operators in Python using the interactive nature of Jupyter notebooks. We will learn more about variables and functions in future tutorials.\n",
        "\n",
        "There is also a ternary operator in Python. Learn about it here: https://data-flair.training/blogs/python-ternary-operator/"
      ]
    },
    {
      "cell_type": "markdown",
      "metadata": {
        "id": "bSiBk9X0oVPV"
      },
      "source": [
        "## Adding text styles using Markdown\n",
        "\n",
        "`#` for header.\n",
        "\n",
        "`*` bullet list\n",
        "\n",
        "`1.` numbered list,\n",
        "\n",
        "**bold text**\n",
        "\n",
        "*italic text*\n",
        "\n",
        "insert [link](https://github.com/thaongph/Python-learn/edit/main/first_steps_with_python.ipynb) to text.\n",
        "\n",
        "![](https://static.wixstatic.com/media/2cd43b_2373b379948d4e0cb910c593f7edb96e~mv2.png/v1/fill/w_637,h_800,al_c,q_90,enc_auto/2cd43b_2373b379948d4e0cb910c593f7edb96e~mv2.png)\n",
        "\n",
        "---\n",
        "\n",
        "a line\n",
        "\n",
        "\n",
        "\n",
        "```\n",
        "a paragraph marked\n",
        "Here is the image of a jaguarr\n",
        "\n",
        "```\n",
        "\n",
        "You can learn the full syntax of Markdown here: https://learnxinyminutes.com/docs/markdown/"
      ]
    },
    {
      "cell_type": "markdown",
      "metadata": {
        "id": "qFc7QYBXoVPW"
      },
      "source": [
        "## Further Reading and References\n",
        "\n",
        "Following are some resources where you can learn about more arithmetic, conditional and logical operations in Python:\n",
        "\n",
        "* Python Tutorial at W3Schools: https://www.w3schools.com/python/\n",
        "* Practical Python Programming: https://dabeaz-course.github.io/practical-python/Notes/Contents.html\n",
        "* Python official documentation: https://docs.python.org/3/tutorial/index.html\n",
        "\n",
        "Now that you have taken your first steps with Python, you are ready to move on to the next tutorial: [\"A Quick Tour of Variables and Data Types in Python\"](https://jovian.ml/aakashns/python-variables-and-data-types)."
      ]
    },
    {
      "cell_type": "markdown",
      "metadata": {
        "id": "NvOUPaTPoVPW"
      },
      "source": [
        "## Questions for Revision\n",
        "\n",
        "Try answering the following questions to test your understanding of the topics covered in this notebook:\n",
        "\n",
        "1. What is a Jupyter notebook? \n",
        "2. How do you add a new code cell below an existing cell?\n",
        "3. How do you add a new Markdown cell below an existing cell?\n",
        "4. How do you convert a code cell to a Markdown cell or vice versa?\n",
        "5. How do you execute a code cell within Jupyter?\n",
        "6. What the different arithmetic operations supported in Python?\n",
        "7. How do you perform arithmetic operations using Python?\n",
        "8. What is the difference between the `/` and the `//` operators?\n",
        "9. What is the difference between the `*` and the `**` operators?\n",
        "10. What is the order of precedence for arithmetic operators in Python?\n",
        "11. How do you specify the order in which arithmetic operations are performed in an expression involving multiple operators?\n",
        "12. How do you solve a multi-step arithmetic word problem using Python?\n",
        "13. What are variables? Why are they useful?\n",
        "14. How do you create a variable in Python?\n",
        "15. What is the assignment operator in Python?\n",
        "16. What are the rules for naming a variable in Python?\n",
        "17. How do you view the value of a variable?\n",
        "18. How do you store the result of an arithmetic expression in a variable?\n",
        "19. What happens if you try to access a variable that has not been defined?\n",
        "20. How do you display messages in Python?\n",
        "21. What type of inputs can the print function accept?\n",
        "22. What are code comments? How are they useful?\n",
        "23. What are the different ways of creating comments in Python code?\n",
        "24. What are the different comparison operations supported in Python?\n",
        "25. What is the result of a comparison operation?\n",
        "26. What is the difference between `=` and `==` in Python?\n",
        "27. What are the logical operators supported in Python?\n",
        "28. What is the difference between the `and` and `or` operators?\n",
        "29. Can you use comparison and logical operators in the same expression?\n",
        "30. What is the purpose of using parentheses in arithmetic or logical expressions?\n",
        "31. What is Markdown? Why is it useful?\n",
        "32. How do you create headings of different sizes using Markdown?\n",
        "33. How do you create bulleted and numbered lists using Markdown?\n",
        "34. How do you create bold or italic text using Markdown?\n",
        "35. How do you include links & images within Markdown cells?\n",
        "36. How do you include code blocks within Markdown cells?\n",
        "37. Is it possible to execute the code blocks within Markdown cells?\n",
        "38. How do you upload and share your Jupyter notebook online using Jovian?\n",
        "39. What is the purpose of the API key requested by jovian.commit ? Where can you find the API key?\n",
        "40. Where can you learn about arithmetic, conditional and logical operations in Python?\n"
      ]
    }
  ],
  "metadata": {
    "kernelspec": {
      "display_name": "Python 3",
      "language": "python",
      "name": "python3"
    },
    "language_info": {
      "codemirror_mode": {
        "name": "ipython",
        "version": 3
      },
      "file_extension": ".py",
      "mimetype": "text/x-python",
      "name": "python",
      "nbconvert_exporter": "python",
      "pygments_lexer": "ipython3",
      "version": "3.8.6"
    },
    "colab": {
      "provenance": [],
      "include_colab_link": true
    }
  },
  "nbformat": 4,
  "nbformat_minor": 0
}