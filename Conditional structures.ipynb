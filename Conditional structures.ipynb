{
 "cells": [
  {
   "cell_type": "markdown",
   "id": "1ccbead0",
   "metadata": {},
   "source": [
    "### 1. Write a program that prompts the user to input a number and display if the number is even or odd."
   ]
  },
  {
   "cell_type": "code",
   "execution_count": 1,
   "id": "81c26b83",
   "metadata": {},
   "outputs": [
    {
     "name": "stdout",
     "output_type": "stream",
     "text": [
      "Input a number:23\n",
      "This is an odd number.\n"
     ]
    }
   ],
   "source": [
    "number = int(input('Input a number:'))\n",
    "if number % 2 == 0:\n",
    "    print('This is an even number.')\n",
    "else:\n",
    "    print('This is an odd number.')"
   ]
  },
  {
   "cell_type": "markdown",
   "id": "b5aaad47",
   "metadata": {},
   "source": [
    "### 2. Write a Python program that takes an age as input and determines whether a person is eligible to vote. If the age is 18 or above, print \"You are eligible to vote.\" Otherwise, print \"You are not eligible to vote yet.\"."
   ]
  },
  {
   "cell_type": "code",
   "execution_count": 2,
   "id": "1875463d",
   "metadata": {},
   "outputs": [
    {
     "name": "stdout",
     "output_type": "stream",
     "text": [
      "Enter your age: 12\n",
      "You are not eligible to vote yet.\n"
     ]
    }
   ],
   "source": [
    "age = int(input(\"Enter your age: \"))\n",
    "if age >= 18:\n",
    "    print('You are eligible to vote.')\n",
    "else:\n",
    "    print('You are not eligible to vote yet.')"
   ]
  },
  {
   "cell_type": "markdown",
   "id": "117c11ad",
   "metadata": {},
   "source": [
    "### 3. Write a program that prompts the user to input three integers and outputs the largest."
   ]
  },
  {
   "cell_type": "code",
   "execution_count": 4,
   "id": "1eb1b746",
   "metadata": {},
   "outputs": [
    {
     "name": "stdout",
     "output_type": "stream",
     "text": [
      "Enter number 1: 82\n",
      "Enter number 2: 82\n",
      "Enter number 3: 67\n",
      "82 is the largest number.\n"
     ]
    }
   ],
   "source": [
    "num1 = int(input(\"Enter number 1: \"))\n",
    "num2 = int(input(\"Enter number 2: \"))\n",
    "num3 = int(input(\"Enter number 3: \"))\n",
    "if num1 >= num2 and num1 >= num3:\n",
    "    print(num1, 'is the largest number.')\n",
    "elif num2 >= num3:\n",
    "    print(num2, 'is the largest number.')\n",
    "else:\n",
    "    print(num3, 'is the largest number.')"
   ]
  },
  {
   "cell_type": "markdown",
   "id": "38eae1a5",
   "metadata": {},
   "source": [
    "### 5. Write a program that prompts the user to enter their age and prints the corresponding age group. The program should use the following age groups:\n",
    "\n",
    "0-12: \t\tChild\n",
    "<br>13-19: \t\tTeenager\n",
    "<br>20-59: \t\tAdult\n",
    "<br>60 and above: \tSenior Citizen"
   ]
  },
  {
   "cell_type": "code",
   "execution_count": 8,
   "id": "bc8b3bd9",
   "metadata": {},
   "outputs": [
    {
     "name": "stdout",
     "output_type": "stream",
     "text": [
      "Enter your age: 3\n",
      "Child\n"
     ]
    }
   ],
   "source": [
    "age = int(input('Enter your age: '))\n",
    "if age <= 12:\n",
    "    print('Child')\n",
    "elif age in range(13,20):\n",
    "    print('Teenager')\n",
    "elif age in range(20,60):\n",
    "    print('Adult')\n",
    "elif age >= 60:\n",
    "    print('Senior citizen')"
   ]
  },
  {
   "attachments": {
    "image.png": {
     "image/png": "[encoded data removed]"
    }
   },
   "cell_type": "markdown",
   "id": "1c8d54c0",
   "metadata": {},
   "source": [
    "### 9. The roots of the quadratic equation ax2 + bx + c = 0, a ≠ 0 are given by the following formula:\n",
    "![image.png](attachment:image.png)\n",
    "In this formula, the term b2 - 4ac is called the discriminant. \n",
    "<br>If b2 - 4ac = 0, then the equation has two equal roots.\n",
    "<br>If b2 - 4ac > 0, the equation has two real roots. If b2 - 4ac < 0, the equation has two complex roots.\n",
    "\n",
    "Write a program that prompts the user to input the value of a (the coefficient of x2), b (the coefficient of x), and c (the constant term) and outputs the roots of the quadratic equation. "
   ]
  },
  {
   "cell_type": "code",
   "execution_count": 13,
   "id": "dd085770",
   "metadata": {},
   "outputs": [
    {
     "name": "stdout",
     "output_type": "stream",
     "text": [
      "Enter value of a: 5\n",
      "Enter value of b: 8\n",
      "Enter value of c: 2\n",
      "The quadratic equation has 2 real roots: -0.31010205144336445 and -1.2898979485566355\n"
     ]
    }
   ],
   "source": [
    "import math\n",
    "\n",
    "a = int(input('Enter value of a: '))\n",
    "b = int(input('Enter value of b: '))\n",
    "c = int(input('Enter value of c: '))\n",
    "d = (b*b) - (4*a*c)\n",
    "\n",
    "if d == 0:\n",
    "    root = -b/(2*a)\n",
    "    print(f'The quadratic equation has 1 real root: {root}')\n",
    "elif d > 0:\n",
    "    root1 = (-b + math.sqrt(d))/(2*a)\n",
    "    root2 = (-b - math.sqrt(d))/(2*a)\n",
    "    print(f'The quadratic equation has 2 real roots: {root1} and {root2}')\n",
    "else:\n",
    "    print('The quadratic equation has the imaginary roots.')"
   ]
  }
 ],
 "metadata": {
  "kernelspec": {
   "display_name": "Python 3 (ipykernel)",
   "language": "python",
   "name": "python3"
  },
  "language_info": {
   "codemirror_mode": {
    "name": "ipython",
    "version": 3
   },
   "file_extension": ".py",
   "mimetype": "text/x-python",
   "name": "python",
   "nbconvert_exporter": "python",
   "pygments_lexer": "ipython3",
   "version": "3.10.9"
  }
 },
 "nbformat": 4,
 "nbformat_minor": 5
}
