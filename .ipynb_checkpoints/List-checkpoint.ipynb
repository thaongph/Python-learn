{
 "cells": [
  {
   "cell_type": "markdown",
   "metadata": {},
   "source": [
    "**1. Write a program that accepts a list from user and print the alternate element of list.**"
   ]
  },
  {
   "cell_type": "code",
   "execution_count": 2,
   "metadata": {},
   "outputs": [
    {
     "name": "stdout",
     "output_type": "stream",
     "text": [
      "Your list:  [0, 1, 2, 3, 4, 5, 6, 7, 8, 9, 10, 11]\n",
      "Alternate elements of your list:  [0, 2, 4, 6, 8, 10]\n"
     ]
    }
   ],
   "source": [
    "size = int(input(\"Enter the quantity of elements you want in your list: \"))\n",
    "\n",
    "list1 = []\n",
    "alternate =[]\n",
    "\n",
    "for data in range(size):\n",
    "    list1.append(data)\n",
    "print('Your list: ', list1)\n",
    "\n",
    "for index in range(0, size):\n",
    "    if index % 2 == 0: \n",
    "        alternate.append(list1[index])\n",
    "\n",
    "print('Alternate elements of your list: ', alternate)"
   ]
  },
  {
   "cell_type": "markdown",
   "metadata": {},
   "source": [
    "**2. Write a program that accepts a list from user. Your program should reverse the content of list and display it. Do not use reverse() method.**"
   ]
  },
  {
   "cell_type": "code",
   "execution_count": 40,
   "metadata": {},
   "outputs": [
    {
     "name": "stdout",
     "output_type": "stream",
     "text": [
      "Enter your list: 123\n",
      "3\n",
      "2\n",
      "1\n"
     ]
    }
   ],
   "source": [
    "lst = list(input('Enter your list: '))\n",
    "\n",
    "for i in range(1,len(lst)):\n",
    "        print(lst[-i])\n",
    "print(lst[0])"
   ]
  },
  {
   "cell_type": "code",
   "execution_count": 37,
   "metadata": {},
   "outputs": [
    {
     "name": "stdout",
     "output_type": "stream",
     "text": [
      "Enter your list: 123\n"
     ]
    },
    {
     "data": {
      "text/plain": [
       "['1', '2', '3']"
      ]
     },
     "execution_count": 37,
     "metadata": {},
     "output_type": "execute_result"
    }
   ],
   "source": [
    "lst = list(input('Enter your list: '))\n",
    "lst"
   ]
  },
  {
   "cell_type": "code",
   "execution_count": 48,
   "metadata": {},
   "outputs": [
    {
     "name": "stdout",
     "output_type": "stream",
     "text": [
      "How many elements in your list? 3\n",
      "Enter 3 elements:\n",
      "2\n",
      "5\n",
      "6\n",
      "[6, 5, 2]\n"
     ]
    }
   ],
   "source": [
    "lst = []\n",
    "size = int(input('How many elements in your list? '))\n",
    "print('Enter', size, 'elements:')\n",
    "\n",
    "for i in range(size):\n",
    "    num = int(input())\n",
    "    lst.append(num)\n",
    "\n",
    "reverse_lst = []\n",
    "for i in range(1,len(lst)):\n",
    "    reverse_lst.append(lst[-i])\n",
    "reverse_lst.append(lst[0])\n",
    "\n",
    "print(reverse_lst)"
   ]
  },
  {
   "cell_type": "code",
   "execution_count": 43,
   "metadata": {},
   "outputs": [
    {
     "data": {
      "text/plain": [
       "4"
      ]
     },
     "execution_count": 43,
     "metadata": {},
     "output_type": "execute_result"
    }
   ],
   "source": [
    "lst1 = [43, 12, 23, 12]\n",
    "len(lst1)"
   ]
  }
 ],
 "metadata": {
  "kernelspec": {
   "display_name": "Python 3 (ipykernel)",
   "language": "python",
   "name": "python3"
  },
  "language_info": {
   "codemirror_mode": {
    "name": "ipython",
    "version": 3
   },
   "file_extension": ".py",
   "mimetype": "text/x-python",
   "name": "python",
   "nbconvert_exporter": "python",
   "pygments_lexer": "ipython3",
   "version": "3.10.9"
  }
 },
 "nbformat": 4,
 "nbformat_minor": 2
}
