{
 "cells": [
  {
   "cell_type": "markdown",
   "id": "9c25acf0",
   "metadata": {},
   "source": [
    "**1. Write a Python program that prompts the user to enter a positive integer. Your program should display all the factors of the number. Additionally, calculate and display the sum of its factors.**\n",
    "\n",
    "Sample output:\n",
    "<br>Enter a positive integer: 45\n",
    "<br>Factors: 1 3 5 9 15 45\n",
    "<br>Sum of factors: 78"
   ]
  },
  {
   "cell_type": "code",
   "execution_count": 12,
   "id": "ba40e31a",
   "metadata": {},
   "outputs": [
    {
     "name": "stdout",
     "output_type": "stream",
     "text": [
      "Enter a positive integer: 23\n",
      "23 has these factors: [1, 23]\n",
      "Sum of factors: 24\n"
     ]
    }
   ],
   "source": [
    "a = int(input('Enter a positive integer: '))\n",
    "factors = []\n",
    "for i in range(1, a+1):\n",
    "    if a % i ==0:\n",
    "        factors.append(i)\n",
    "print(a, 'has these factors:', factors)\n",
    "print('Sum of factors:', sum(factors))"
   ]
  },
  {
   "cell_type": "markdown",
   "id": "757a2008",
   "metadata": {},
   "source": [
    "**2. Write a program that uses a loop to repeatedly ask the user to enter positive numbers. The loop will come to an end when a negative number is entered. After collecting all the positive numbers, the program will compute their sum and display the result to the user.**"
   ]
  },
  {
   "cell_type": "code",
   "execution_count": 11,
   "id": "5e77fc24",
   "metadata": {
    "scrolled": true
   },
   "outputs": [
    {
     "name": "stdout",
     "output_type": "stream",
     "text": [
      "Enter a positive number:1\n",
      "Enter a positive number:3\n",
      "Enter a positive number:5\n",
      "Enter a positive number:7\n",
      "Enter a positive number:8\n",
      "Enter a positive number:9\n",
      "Enter a positive number:-1\n",
      "31\n"
     ]
    }
   ],
   "source": [
    "i = int(input('Enter a positive number:'))\n",
    "sum_i = 0\n",
    "\n",
    "while i > 0:\n",
    "    i = int(input('Enter a positive number:'))\n",
    "    sum_i += i\n",
    "print(sum_i)\n",
    "\n",
    "# this won't sum the first number entered, and sum the last (negative number)"
   ]
  },
  {
   "cell_type": "code",
   "execution_count": 8,
   "id": "b7b56fd2",
   "metadata": {},
   "outputs": [
    {
     "name": "stdout",
     "output_type": "stream",
     "text": [
      "Enter a positive number:3\n",
      "Enter a positive number:0\n",
      "Enter a positive number:91\n",
      "Enter a positive number:-3\n",
      "Sum of positive numbers: 94\n"
     ]
    }
   ],
   "source": [
    "# Solution\n",
    "sum_a = 0\n",
    "\n",
    "while True:\n",
    "    a = int(input('Enter a positive number:'))\n",
    "    if a < 0:\n",
    "        break\n",
    "    else:\n",
    "        sum_a += a\n",
    "print('Sum of positive numbers:', sum_a)"
   ]
  },
  {
   "cell_type": "markdown",
   "id": "9fe9db6f",
   "metadata": {},
   "source": [
    "**4. Write a program to enter the numbers till the user wants and at the end it should display the count of positive, negative and zeros entered.**"
   ]
  },
  {
   "cell_type": "code",
   "execution_count": 16,
   "id": "2e10168b",
   "metadata": {},
   "outputs": [
    {
     "name": "stdout",
     "output_type": "stream",
     "text": [
      "Enter numbers until you want:3\n",
      "Do you want to continue (y/n):y\n",
      "Enter numbers until you want:6\n",
      "Do you want to continue (y/n):Y\n",
      "Enter numbers until you want:0\n",
      "Do you want to continue (y/n):n\n",
      "Count of positive numbers: 2\n",
      "Count of negative numbers: 0\n",
      "Count of zero numbers: 1\n"
     ]
    }
   ],
   "source": [
    "positive = 0\n",
    "negative = 0\n",
    "zero = 0\n",
    "option = 'Y'\n",
    "while option == 'Y' or option == 'y':\n",
    "    a = int(input('Enter numbers until you want:'))\n",
    "    if a > 0:\n",
    "        positive += 1\n",
    "    elif a == 0:\n",
    "        zero += 1\n",
    "    else:\n",
    "        negative += 1\n",
    "    option = input('Do you want to continue (y/n):')\n",
    "print('Count of positive numbers:', positive)\n",
    "print('Count of negative numbers:', negative)\n",
    "print('Count of zero numbers:', zero)"
   ]
  }
 ],
 "metadata": {
  "kernelspec": {
   "display_name": "Python 3 (ipykernel)",
   "language": "python",
   "name": "python3"
  },
  "language_info": {
   "codemirror_mode": {
    "name": "ipython",
    "version": 3
   },
   "file_extension": ".py",
   "mimetype": "text/x-python",
   "name": "python",
   "nbconvert_exporter": "python",
   "pygments_lexer": "ipython3",
   "version": "3.10.9"
  }
 },
 "nbformat": 4,
 "nbformat_minor": 5
}
