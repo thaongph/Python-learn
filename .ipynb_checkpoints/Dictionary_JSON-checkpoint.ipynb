{
 "cells": [
  {
   "cell_type": "markdown",
   "metadata": {},
   "source": [
    "**1. Write a program that reads a string from keyboard and prints the unique words. Your program should convert input string to lower case.**"
   ]
  },
  {
   "cell_type": "code",
   "execution_count": 3,
   "metadata": {},
   "outputs": [
    {
     "name": "stdout",
     "output_type": "stream",
     "text": [
      "hello i am thao, eat nothing today. "
     ]
    }
   ],
   "source": [
    "text = input('Enter a string: ').lower()\n",
    "words = text.split()\n",
    "d = {}\n",
    "for word in words:\n",
    "    if not word in d:\n",
    "        d[word] = 0\n",
    "        print(word, end = ' ')"
   ]
  },
  {
   "cell_type": "markdown",
   "metadata": {},
   "source": [
    "**2. Write a program to print all elements in a list those have only single occurrence.**"
   ]
  },
  {
   "cell_type": "code",
   "execution_count": 7,
   "metadata": {},
   "outputs": [
    {
     "name": "stdout",
     "output_type": "stream",
     "text": [
      "[4, 6]\n"
     ]
    }
   ],
   "source": [
    "def unique_nums(lst):\n",
    "    dic = {} # a dic should be used for counting occurences by get()\n",
    "    for num in lst:\n",
    "        dic[num] = dic.get(num, 0) + 1\n",
    "        # get() method be used to retrive current count and then increment it by 1\n",
    "        # after above sentence, a dictionary will be created with key = num, value = get(num, 0) + 1\n",
    "    unique = []\n",
    "    for num, count in dic.items(): \n",
    "        # items() is used for extract key-value pairs\n",
    "        # this 'for' loop is used to unpackage each tuple of ('key', value) in variable num and count\n",
    "        if count == 1:\n",
    "            unique.append(num)\n",
    "    return unique\n",
    "\n",
    "lst_num = [1,2,4,1,6,2]\n",
    "lst_unique = unique_nums(lst_num)\n",
    "print(lst_unique)"
   ]
  },
  {
   "cell_type": "code",
   "execution_count": 10,
   "metadata": {},
   "outputs": [
    {
     "data": {
      "text/plain": [
       "dict_items([('a', 1), ('b', 2), ('c', 3)])"
      ]
     },
     "execution_count": 10,
     "metadata": {},
     "output_type": "execute_result"
    }
   ],
   "source": [
    "my_dict = {'a': 1, 'b': 2, 'c': 3}\n",
    "my_dict.items()"
   ]
  },
  {
   "cell_type": "code",
   "execution_count": 16,
   "metadata": {},
   "outputs": [
    {
     "name": "stdout",
     "output_type": "stream",
     "text": [
      "1\n",
      "2\n",
      "5\n",
      "\n",
      "0.0006659030914306641\n"
     ]
    }
   ],
   "source": [
    "import time\n",
    "start = time.time()\n",
    "\n",
    "def find_dup(lst):\n",
    "    dic = {}\n",
    "    for num in lst:\n",
    "        dic[num] = dic.get(num, 0) +1\n",
    "    for num, value in dic.items():\n",
    "        if value > 1:\n",
    "            print(num)\n",
    "    return ''\n",
    "\n",
    "my_lst = [1,1,2,2,2,34,5,5,2]\n",
    "dup_num = find_dup(my_lst)\n",
    "print(dup_num)\n",
    "\n",
    "end = time.time()\n",
    "print(end - start)"
   ]
  },
  {
   "cell_type": "code",
   "execution_count": 9,
   "metadata": {},
   "outputs": [
    {
     "name": "stdout",
     "output_type": "stream",
     "text": [
      "{1: 2, 2: 4, 5: 2}\n",
      "0.0007891654968261719\n"
     ]
    }
   ],
   "source": [
    "import time\n",
    "start = time.time()\n",
    "\n",
    "def find_dup(lst):\n",
    "    dic = {}\n",
    "    for num in lst:\n",
    "        dic[num] = dic.get(num, 0) +1\n",
    "    dup = {key: value for key, value in dic.items() if value >1}\n",
    "    return dup\n",
    "\n",
    "my_lst = [1,1,2,2,2,34,5,5,2]\n",
    "dup_num = find_dup(my_lst)\n",
    "print(dup_num)\n",
    "\n",
    "end = time.time()\n",
    "print(end - start)"
   ]
  },
  {
   "cell_type": "markdown",
   "metadata": {},
   "source": [
    "**3. Write a program to enter names of employees and their salaries as input and store them in a dictionary.**"
   ]
  },
  {
   "cell_type": "code",
   "execution_count": 18,
   "metadata": {},
   "outputs": [
    {
     "name": "stdout",
     "output_type": "stream",
     "text": [
      "Enter name of employee: Jenny\n",
      "Enter salary: 2000\n",
      "Do you want to enter more employee? y/ny\n",
      "Enter name of employee: Nancy\n",
      "Enter salary: 1000\n",
      "Do you want to enter more employee? y/nTom\n",
      "Enter name of employee: Tom\n",
      "Enter salary: 1500\n",
      "Do you want to enter more employee? y/nn\n",
      "{'Jenny': 2000, 'Nancy': 1000, 'Tom': 1500}\n"
     ]
    }
   ],
   "source": [
    "d = {}\n",
    "while True:\n",
    "    name = input('Enter name of employee: ')\n",
    "    salary = int(input('Enter salary: '))\n",
    "    d[name] = salary\n",
    "    con = input('Do you want to enter more employee? y/n')\n",
    "    if con == 'n' or con == 'N':\n",
    "        break\n",
    "        \n",
    "print(d)"
   ]
  },
  {
   "cell_type": "code",
   "execution_count": null,
   "metadata": {},
   "outputs": [],
   "source": []
  },
  {
   "cell_type": "code",
   "execution_count": null,
   "metadata": {},
   "outputs": [],
   "source": []
  },
  {
   "cell_type": "code",
   "execution_count": null,
   "metadata": {},
   "outputs": [],
   "source": []
  }
 ],
 "metadata": {
  "kernelspec": {
   "display_name": "Python 3 (ipykernel)",
   "language": "python",
   "name": "python3"
  },
  "language_info": {
   "codemirror_mode": {
    "name": "ipython",
    "version": 3
   },
   "file_extension": ".py",
   "mimetype": "text/x-python",
   "name": "python",
   "nbconvert_exporter": "python",
   "pygments_lexer": "ipython3",
   "version": "3.10.9"
  }
 },
 "nbformat": 4,
 "nbformat_minor": 2
}
