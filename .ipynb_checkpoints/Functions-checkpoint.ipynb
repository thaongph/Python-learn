{
 "cells": [
  {
   "cell_type": "markdown",
   "id": "01f501de",
   "metadata": {},
   "source": [
    "**1. Write a function find_max that accepts three numbers as arguments and returns the largest number among three. Write another function main, in main() function accept three numbers from user and call find_max.**"
   ]
  },
  {
   "cell_type": "code",
   "execution_count": 7,
   "id": "d2c4e403",
   "metadata": {},
   "outputs": [
    {
     "name": "stdout",
     "output_type": "stream",
     "text": [
      "6\n"
     ]
    }
   ],
   "source": [
    "def f(a,b,c):\n",
    "    num = []\n",
    "    num += [a, b, c]\n",
    "    find_max = max(num)\n",
    "    return(find_max)\n",
    "print(f(3,5,6))"
   ]
  },
  {
   "cell_type": "code",
   "execution_count": 9,
   "id": "aa9052d3",
   "metadata": {},
   "outputs": [
    {
     "name": "stdout",
     "output_type": "stream",
     "text": [
      "Number 1:6\n",
      "Number 2:24\n",
      "Number 3:1\n",
      "24\n"
     ]
    }
   ],
   "source": [
    "def main():\n",
    "    x = int(input('Number 1:'))\n",
    "    y = int(input('Number 2:'))\n",
    "    z = int(input('Number 3:'))\n",
    "    print(f(x, y, z))\n",
    "    \n",
    "main()"
   ]
  },
  {
   "cell_type": "markdown",
   "id": "860e83f5",
   "metadata": {},
   "source": [
    "**2. Write a function, is_vowel that returns the value true if a given character is a vowel, and otherwise returns false. Write another function main, in main() function accept a string from user and count number of vowels in that string.**"
   ]
  },
  {
   "cell_type": "code",
   "execution_count": 22,
   "id": "b9d94d5e",
   "metadata": {},
   "outputs": [
    {
     "name": "stdout",
     "output_type": "stream",
     "text": [
      "True\n",
      "Enter a sentence: Hi Hung\n",
      "2\n"
     ]
    }
   ],
   "source": [
    "def is_vowel(x):\n",
    "    if x in 'ueoaiUEOAI':\n",
    "        return True\n",
    "    else:\n",
    "        return False\n",
    "print(is_vowel('U'))\n",
    "\n",
    "def main():\n",
    "    a = input('Enter a sentence: ')\n",
    "    count_vowel = 0\n",
    "    for i in a:\n",
    "        if is_vowel(i) == True:\n",
    "            count_vowel += 1\n",
    "    print(count_vowel)\n",
    "main()"
   ]
  },
  {
   "cell_type": "code",
   "execution_count": null,
   "id": "020d567e",
   "metadata": {},
   "outputs": [],
   "source": []
  },
  {
   "cell_type": "code",
   "execution_count": null,
   "id": "5c9bc659",
   "metadata": {},
   "outputs": [],
   "source": []
  }
 ],
 "metadata": {
  "kernelspec": {
   "display_name": "Python 3 (ipykernel)",
   "language": "python",
   "name": "python3"
  },
  "language_info": {
   "codemirror_mode": {
    "name": "ipython",
    "version": 3
   },
   "file_extension": ".py",
   "mimetype": "text/x-python",
   "name": "python",
   "nbconvert_exporter": "python",
   "pygments_lexer": "ipython3",
   "version": "3.10.9"
  }
 },
 "nbformat": 4,
 "nbformat_minor": 5
}
