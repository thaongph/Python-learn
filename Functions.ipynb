{
 "cells": [
  {
   "cell_type": "markdown",
   "id": "01f501de",
   "metadata": {},
   "source": [
    "**1. Write a function find_max that accepts three numbers as arguments and returns the largest number among three. Write another function main, in main() function accept three numbers from user and call find_max.**"
   ]
  },
  {
   "cell_type": "code",
   "execution_count": 7,
   "id": "d2c4e403",
   "metadata": {},
   "outputs": [
    {
     "name": "stdout",
     "output_type": "stream",
     "text": [
      "6\n"
     ]
    }
   ],
   "source": [
    "def f(a,b,c):\n",
    "    num = []\n",
    "    num += [a, b, c]\n",
    "    find_max = max(num)\n",
    "    return(find_max)\n",
    "print(f(3,5,6))"
   ]
  },
  {
   "cell_type": "code",
   "execution_count": 9,
   "id": "aa9052d3",
   "metadata": {},
   "outputs": [
    {
     "name": "stdout",
     "output_type": "stream",
     "text": [
      "Number 1:6\n",
      "Number 2:24\n",
      "Number 3:1\n",
      "24\n"
     ]
    }
   ],
   "source": [
    "def main():\n",
    "    x = int(input('Number 1:'))\n",
    "    y = int(input('Number 2:'))\n",
    "    z = int(input('Number 3:'))\n",
    "    print(f(x, y, z))\n",
    "    \n",
    "main()"
   ]
  },
  {
   "cell_type": "markdown",
   "id": "860e83f5",
   "metadata": {},
   "source": [
    "**2. Write a function, is_vowel that returns the value true if a given character is a vowel, and otherwise returns false. Write another function main, in main() function accept a string from user and count number of vowels in that string.**"
   ]
  },
  {
   "cell_type": "code",
   "execution_count": 22,
   "id": "b9d94d5e",
   "metadata": {},
   "outputs": [
    {
     "name": "stdout",
     "output_type": "stream",
     "text": [
      "True\n",
      "Enter a sentence: Hi Hung\n",
      "2\n"
     ]
    }
   ],
   "source": [
    "def is_vowel(x):\n",
    "    if x in 'ueoaiUEOAI':\n",
    "        return True\n",
    "    else:\n",
    "        return False\n",
    "print(is_vowel('U'))\n",
    "\n",
    "def main():\n",
    "    a = input('Enter a sentence: ')\n",
    "    count_vowel = 0\n",
    "    for i in a:\n",
    "        if is_vowel(i) == True:\n",
    "            count_vowel += 1\n",
    "    print(count_vowel)\n",
    "main()"
   ]
  },
  {
   "cell_type": "markdown",
   "id": "def2586a",
   "metadata": {},
   "source": [
    "**3. Write a function named is_prime, which takes an integer as an argument and returns true if the argument is a prime number, or false otherwise. Also, write the main function that displays prime numbers between 1 to 500.**"
   ]
  },
  {
   "cell_type": "code",
   "execution_count": 7,
   "id": "3179bd58",
   "metadata": {},
   "outputs": [
    {
     "name": "stdout",
     "output_type": "stream",
     "text": [
      "False\n"
     ]
    }
   ],
   "source": [
    "import math\n",
    "from math import sqrt\n",
    "def is_prime(x):\n",
    "    if x <= 1:\n",
    "        return False # 1 is the corner case\n",
    "    for i in range(2, int(sqrt(x)+1)):\n",
    "        if x % i == 0:\n",
    "            return False # check x from 2\n",
    "    return True\n",
    "print(is_prime(27)) # The clause requires \"takes an integer as an argument\" --> so don't use this given number"
   ]
  },
  {
   "cell_type": "code",
   "execution_count": 14,
   "id": "6d71e8b8",
   "metadata": {},
   "outputs": [
    {
     "name": "stdout",
     "output_type": "stream",
     "text": [
      "[2, 3, 5, 7, 11, 13, 17, 19, 23, 29, 31, 37, 41, 43, 47, 53, 59, 61, 67, 71, 73, 79, 83, 89, 97, 101, 103, 107, 109, 113, 127, 131, 137, 139, 149, 151, 157, 163, 167, 173, 179, 181, 191, 193, 197, 199, 211, 223, 227, 229, 233, 239, 241, 251, 257, 263, 269, 271, 277, 281, 283, 293, 307, 311, 313, 317, 331, 337, 347, 349, 353, 359, 367, 373, 379, 383, 389, 397, 401, 409, 419, 421, 431, 433, 439, 443, 449, 457, 461, 463, 467, 479, 487, 491, 499]\n",
      "95\n"
     ]
    }
   ],
   "source": [
    "def main():\n",
    "    prime_list = []\n",
    "    for x in range(1,501):\n",
    "        if is_prime(x) == True: # not use \"True\" here, as this is not a boolean\n",
    "            prime_list.append(x)\n",
    "    print(prime_list)\n",
    "    print(len(prime_list))\n",
    "main()"
   ]
  },
  {
   "cell_type": "markdown",
   "id": "75ff827f",
   "metadata": {},
   "source": [
    "**4. Write a function in python to find the sum of the cube of elements in a list. The list is received as an argument to the function, in turn, the function must return the sum. Write the main function which invokes the above function.**"
   ]
  },
  {
   "cell_type": "code",
   "execution_count": 19,
   "id": "37a0435b",
   "metadata": {},
   "outputs": [
    {
     "name": "stdout",
     "output_type": "stream",
     "text": [
      "160\n"
     ]
    }
   ],
   "source": [
    "def sum_num(a):\n",
    "    total = 0\n",
    "    for i in a:\n",
    "        total += i**3\n",
    "    return total\n",
    "def main():\n",
    "    a = [3,2,5]\n",
    "    sum_a = sum_num(a)\n",
    "    print(sum_a)\n",
    "main()"
   ]
  },
  {
   "cell_type": "code",
   "execution_count": null,
   "id": "028d3f1e",
   "metadata": {},
   "outputs": [],
   "source": []
  },
  {
   "cell_type": "code",
   "execution_count": null,
   "id": "2d388641",
   "metadata": {},
   "outputs": [],
   "source": []
  },
  {
   "cell_type": "code",
   "execution_count": null,
   "id": "6caa6f73",
   "metadata": {},
   "outputs": [],
   "source": []
  },
  {
   "cell_type": "code",
   "execution_count": null,
   "id": "123e294b",
   "metadata": {},
   "outputs": [],
   "source": []
  },
  {
   "cell_type": "code",
   "execution_count": null,
   "id": "9a0e38ab",
   "metadata": {},
   "outputs": [],
   "source": []
  },
  {
   "cell_type": "code",
   "execution_count": null,
   "id": "a523c380",
   "metadata": {},
   "outputs": [],
   "source": []
  },
  {
   "cell_type": "code",
   "execution_count": null,
   "id": "e80e0d6e",
   "metadata": {},
   "outputs": [],
   "source": []
  },
  {
   "cell_type": "code",
   "execution_count": null,
   "id": "e07b5824",
   "metadata": {},
   "outputs": [],
   "source": []
  },
  {
   "cell_type": "markdown",
   "id": "b3cc64fc",
   "metadata": {},
   "source": []
  },
  {
   "cell_type": "code",
   "execution_count": null,
   "id": "5c9bc659",
   "metadata": {},
   "outputs": [],
   "source": []
  }
 ],
 "metadata": {
  "kernelspec": {
   "display_name": "Python 3 (ipykernel)",
   "language": "python",
   "name": "python3"
  },
  "language_info": {
   "codemirror_mode": {
    "name": "ipython",
    "version": 3
   },
   "file_extension": ".py",
   "mimetype": "text/x-python",
   "name": "python",
   "nbconvert_exporter": "python",
   "pygments_lexer": "ipython3",
   "version": "3.12.0"
  }
 },
 "nbformat": 4,
 "nbformat_minor": 5
}
