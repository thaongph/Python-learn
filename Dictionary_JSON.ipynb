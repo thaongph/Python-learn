{
 "cells": [
  {
   "cell_type": "markdown",
   "metadata": {},
   "source": [
    "**1. Write a program that reads a string from keyboard and prints the unique words. Your program should convert input string to lower case.**"
   ]
  },
  {
   "cell_type": "code",
   "execution_count": 2,
   "metadata": {},
   "outputs": [
    {
     "name": "stdout",
     "output_type": "stream",
     "text": [
      "Enter a string: Hi, I am Thao. I am hungry.\n",
      "hi, i am thao. hungry. "
     ]
    }
   ],
   "source": [
    "text = input('Enter a string: ').lower()\n",
    "d = {} # create an empty dict to insert unique word \n",
    "words = text.split(' ')\n",
    "\n",
    "for word in words:\n",
    "    if not word in d:\n",
    "        d[word] = 1 # value 1 is attached to each key of 'word'\n",
    "        print(word, end = ' ')"
   ]
  },
  {
   "cell_type": "markdown",
   "metadata": {},
   "source": [
    "**2. Write a program to print all elements in a list those have only single occurrence.**"
   ]
  },
  {
   "cell_type": "code",
   "execution_count": 7,
   "metadata": {},
   "outputs": [
    {
     "name": "stdout",
     "output_type": "stream",
     "text": [
      "[4, 6]\n"
     ]
    }
   ],
   "source": [
    "def unique_nums(lst):\n",
    "    dic = {} # a dic should be used for counting occurences by get()\n",
    "    for num in lst:\n",
    "        dic[num] = dic.get(num, 0) + 1\n",
    "        # get() method be used to retrive current count and then increment it by 1\n",
    "        # after above sentence, a dictionary will be created with key = num, value = get(num, 0) + 1\n",
    "    unique = []\n",
    "    for num, count in dic.items(): \n",
    "        # items() is used for extract key-value pairs\n",
    "        # this 'for' loop is used to unpackage each tuple of ('key', value) in variable num and count\n",
    "        if count == 1:\n",
    "            unique.append(num)\n",
    "    return unique\n",
    "\n",
    "lst_num = [1,2,4,1,6,2]\n",
    "lst_unique = unique_nums(lst_num)\n",
    "print(lst_unique)"
   ]
  },
  {
   "cell_type": "code",
   "execution_count": 4,
   "metadata": {},
   "outputs": [
    {
     "name": "stdout",
     "output_type": "stream",
     "text": [
      "[1, 3, 5, 8]\n"
     ]
    }
   ],
   "source": [
    "# practise again\n",
    "\n",
    "def uni_num(lst):\n",
    "    d = {}\n",
    "    for num in lst:\n",
    "        d[num] = d.get(num, 0) + 1\n",
    "    uni = []\n",
    "    for num, times in d.items():\n",
    "        if times == 1:\n",
    "            uni.append(num)\n",
    "    return uni\n",
    "\n",
    "num_lst = [1,3,4,4,5,6,8,6,6,]\n",
    "uni_lst = uni_num(num_lst)\n",
    "print(uni_lst)"
   ]
  },
  {
   "cell_type": "code",
   "execution_count": 10,
   "metadata": {},
   "outputs": [
    {
     "data": {
      "text/plain": [
       "dict_items([('a', 1), ('b', 2), ('c', 3)])"
      ]
     },
     "execution_count": 10,
     "metadata": {},
     "output_type": "execute_result"
    }
   ],
   "source": [
    "my_dict = {'a': 1, 'b': 2, 'c': 3}\n",
    "my_dict.items()"
   ]
  },
  {
   "cell_type": "code",
   "execution_count": 16,
   "metadata": {},
   "outputs": [
    {
     "name": "stdout",
     "output_type": "stream",
     "text": [
      "1\n",
      "2\n",
      "5\n",
      "\n",
      "0.0006659030914306641\n"
     ]
    }
   ],
   "source": [
    "# print the elements that are duplicated\n",
    "\n",
    "import time\n",
    "start = time.time()\n",
    "\n",
    "def find_dup(lst):\n",
    "    dic = {}\n",
    "    for num in lst:\n",
    "        dic[num] = dic.get(num, 0) +1\n",
    "    for num, value in dic.items():\n",
    "        if value > 1:\n",
    "            print(num)\n",
    "    return ''\n",
    "\n",
    "my_lst = [1,1,2,2,2,34,5,5,2]\n",
    "dup_num = find_dup(my_lst)\n",
    "print(dup_num)\n",
    "\n",
    "end = time.time()\n",
    "print(end - start)"
   ]
  },
  {
   "cell_type": "code",
   "execution_count": 9,
   "metadata": {},
   "outputs": [
    {
     "name": "stdout",
     "output_type": "stream",
     "text": [
      "{1: 2, 2: 4, 5: 2}\n",
      "0.0007891654968261719\n"
     ]
    }
   ],
   "source": [
    "# print the elements that are duplicated with the times they exist\n",
    "\n",
    "import time\n",
    "start = time.time()\n",
    "\n",
    "def find_dup(lst):\n",
    "    dic = {}\n",
    "    for num in lst:\n",
    "        dic[num] = dic.get(num, 0) +1\n",
    "    dup = {key: value for key, value in dic.items() if value >1}\n",
    "    return dup\n",
    "\n",
    "my_lst = [1,1,2,2,2,34,5,5,2]\n",
    "dup_num = find_dup(my_lst)\n",
    "print(dup_num)\n",
    "\n",
    "end = time.time()\n",
    "print(end - start)"
   ]
  },
  {
   "cell_type": "markdown",
   "metadata": {},
   "source": [
    "**3. Write a program to enter names of employees and their salaries as input and store them in a dictionary.**"
   ]
  },
  {
   "cell_type": "code",
   "execution_count": 18,
   "metadata": {},
   "outputs": [
    {
     "name": "stdout",
     "output_type": "stream",
     "text": [
      "Enter name of employee: Jenny\n",
      "Enter salary: 2000\n",
      "Do you want to enter more employee? y/ny\n",
      "Enter name of employee: Nancy\n",
      "Enter salary: 1000\n",
      "Do you want to enter more employee? y/nTom\n",
      "Enter name of employee: Tom\n",
      "Enter salary: 1500\n",
      "Do you want to enter more employee? y/nn\n",
      "{'Jenny': 2000, 'Nancy': 1000, 'Tom': 1500}\n"
     ]
    }
   ],
   "source": [
    "d = {}\n",
    "while True:\n",
    "    name = input('Enter name of employee: ')\n",
    "    salary = int(input('Enter salary: '))\n",
    "    d[name] = salary\n",
    "    con = input('Do you want to enter more employee? y/n')\n",
    "    if con == 'n' or con == 'N':\n",
    "        break\n",
    "        \n",
    "print(d)"
   ]
  },
  {
   "cell_type": "markdown",
   "metadata": {},
   "source": [
    "**4. Write a program to read 6 numbers and create a dictionary having keys EVEN and ODD. Dictionary's value should be stored in list. Your dictionary should be like:\n",
    "{'EVEN':[8,10,64], 'ODD':[1,5,9]}**"
   ]
  },
  {
   "cell_type": "code",
   "execution_count": 9,
   "metadata": {},
   "outputs": [
    {
     "data": {
      "text/plain": [
       "{'EVEN': [14, 26, 8], 'ODD': [3, 23, 9]}"
      ]
     },
     "execution_count": 9,
     "metadata": {},
     "output_type": "execute_result"
    }
   ],
   "source": [
    "lst = [3,14,23,26,8,9]\n",
    "even = []\n",
    "odd = []\n",
    "for num in lst:\n",
    "    if num % 2 == 0:\n",
    "        even.append(num)\n",
    "    else:\n",
    "        odd.append(num)\n",
    "\n",
    "d['EVEN'] = even\n",
    "d['ODD'] = odd\n",
    "d"
   ]
  },
  {
   "cell_type": "markdown",
   "metadata": {},
   "source": [
    "**5. Write a program that reads string from user. Your program should create a dictionary having key as word length and value is count of words of that length.**"
   ]
  },
  {
   "cell_type": "code",
   "execution_count": 22,
   "metadata": {},
   "outputs": [
    {
     "name": "stdout",
     "output_type": "stream",
     "text": [
      "Enter a string: hi i am thao\n",
      "5.406810998916626\n"
     ]
    }
   ],
   "source": [
    "text = input('Enter a string: ')\n",
    "split_text = text.split()\n",
    "len_text = []\n",
    "for word in split_text:\n",
    "    a = len(word)\n",
    "    len_text.append(a)\n",
    "# len_text\n",
    "d= {}\n",
    "for length in len_text:\n",
    "    d[length] = d.get(length,0) + 1\n",
    "    len_d = {key: value for key, value in d.items()}\n",
    "len_d"
   ]
  },
  {
   "cell_type": "code",
   "execution_count": 24,
   "metadata": {},
   "outputs": [
    {
     "name": "stdout",
     "output_type": "stream",
     "text": [
      "Enter a string: hi i am thao\n",
      "{2: 2, 1: 1, 4: 1}\n",
      "8.808643102645874\n"
     ]
    }
   ],
   "source": [
    "# solution, much shorter:\n",
    "text = input('Enter a string: ')\n",
    "words = text.split()\n",
    "d= {}\n",
    "for word in words:\n",
    "    if len(word) in d:\n",
    "        d[len(word)] += 1\n",
    "    else:\n",
    "        d[len(word)] = 1\n",
    "print(d)"
   ]
  },
  {
   "cell_type": "markdown",
   "metadata": {},
   "source": [
    "**6. Write a program to input roll numbers and their names of students of your class and store them in the dictionary as the key-value pair. Perform the following operations on the dictionary:**\n",
    "<br>a) Display the Roll numbers and name for all students.\n",
    "<br>b) Add a new key-value pair in this dictionary and display the modified dictionary\n",
    "<br>c) Delete a particular student's record from the dictionary\n",
    "<br>d) Modify the name of an existing students."
   ]
  },
  {
   "cell_type": "code",
   "execution_count": 27,
   "metadata": {},
   "outputs": [
    {
     "name": "stdout",
     "output_type": "stream",
     "text": [
      "{'1234': 'Jean', '1235': 'Jim', '1236': 'John', '1237': 'Joan'}\n",
      "1234 \t Jean\n",
      "1235 \t Jim\n",
      "1236 \t John\n",
      "1237 \t Joan\n"
     ]
    }
   ],
   "source": [
    "# a) Display the Roll numbers and name for all students.\n",
    "student = {'1234': 'Jean',\n",
    "           '1235': 'Jim',\n",
    "           '1236': 'John',\n",
    "          '1237': 'Joan',}\n",
    "print(student)\n",
    "for roll in student:\n",
    "    print(roll, '\\t', student[roll])"
   ]
  },
  {
   "cell_type": "code",
   "execution_count": 30,
   "metadata": {},
   "outputs": [
    {
     "name": "stdout",
     "output_type": "stream",
     "text": [
      "Enter the roll number: 1238\n",
      "Enter name: Jay\n",
      "Record added.\n",
      "1234 \t Jean\n",
      "1235 \t Jim\n",
      "1236 \t John\n",
      "1237 \t Joan\n",
      "1238 \t Jay\n"
     ]
    }
   ],
   "source": [
    "# b) Add a new key-value pair in this dictionary and display the modified dictionary\n",
    "\n",
    "new_roll = input('Enter the roll number: ')\n",
    "if new_roll in student:\n",
    "    print('Roll number has already existed.')\n",
    "else:\n",
    "    name = input('Enter name: ')\n",
    "    student[new_roll] = name\n",
    "    print('Record added.')\n",
    "    for roll in student:\n",
    "        print(roll, '\\t', student[roll])"
   ]
  },
  {
   "cell_type": "code",
   "execution_count": 32,
   "metadata": {},
   "outputs": [
    {
     "name": "stdout",
     "output_type": "stream",
     "text": [
      "Enter the roll number: 1234\n",
      "Record is deleted.\n",
      "1235 \t Jim\n",
      "1236 \t John\n",
      "1237 \t Joan\n",
      "1238 \t Jay\n"
     ]
    }
   ],
   "source": [
    "# c) Delete a particular student's record from the dictionary\n",
    "del_roll = input('Enter the roll number: ')\n",
    "if not del_roll in student:\n",
    "    print('Record is not found.')\n",
    "else:\n",
    "    del student[del_roll]\n",
    "    print('Record is deleted.')\n",
    "    for roll in student:\n",
    "        print(roll, '\\t', student[roll])"
   ]
  },
  {
   "cell_type": "code",
   "execution_count": 33,
   "metadata": {},
   "outputs": [
    {
     "name": "stdout",
     "output_type": "stream",
     "text": [
      "Enter the roll number: 1235\n",
      "Enter the modified name: Jimmy\n",
      "Record is edited.\n",
      "1235 \t Jimmy\n",
      "1236 \t John\n",
      "1237 \t Joan\n",
      "1238 \t Jay\n"
     ]
    }
   ],
   "source": [
    "# d) Modify the name of an existing students.\n",
    "mo_roll = input('Enter the roll number: ')\n",
    "if not mo_roll in student:\n",
    "    print('Record is not found.')\n",
    "else:\n",
    "    mo_name = input('Enter the modified name: ')\n",
    "    student[mo_roll] = mo_name\n",
    "    print('Record is edited.')\n",
    "    for roll in student:\n",
    "        print(roll, '\\t', student[roll])"
   ]
  },
  {
   "cell_type": "code",
   "execution_count": 34,
   "metadata": {},
   "outputs": [
    {
     "data": {
      "text/plain": [
       "4"
      ]
     },
     "execution_count": 34,
     "metadata": {},
     "output_type": "execute_result"
    }
   ],
   "source": [
    "len(student)"
   ]
  }
 ],
 "metadata": {
  "kernelspec": {
   "display_name": "Python 3 (ipykernel)",
   "language": "python",
   "name": "python3"
  },
  "language_info": {
   "codemirror_mode": {
    "name": "ipython",
    "version": 3
   },
   "file_extension": ".py",
   "mimetype": "text/x-python",
   "name": "python",
   "nbconvert_exporter": "python",
   "pygments_lexer": "ipython3",
   "version": "3.10.9"
  }
 },
 "nbformat": 4,
 "nbformat_minor": 2
}
