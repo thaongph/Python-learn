{
 "cells": [
  {
   "cell_type": "markdown",
   "id": "5b03228f",
   "metadata": {},
   "source": [
    "**1. Write a program that accepts a string from user. Your program should count and display number of vowels in that string.**"
   ]
  },
  {
   "cell_type": "code",
   "execution_count": 2,
   "id": "2d2f231f",
   "metadata": {},
   "outputs": [
    {
     "name": "stdout",
     "output_type": "stream",
     "text": [
      "Enter a string:TOday is Thursday\n",
      "Number of vowels: 5\n"
     ]
    }
   ],
   "source": [
    "string = input('Enter a string:')\n",
    "vowel = 0\n",
    "\n",
    "for i in string:\n",
    "    if i in 'ueoaiUEOAI':\n",
    "        vowel += 1\n",
    "print('Number of vowels:', vowel)"
   ]
  },
  {
   "cell_type": "markdown",
   "id": "a9c2dc64",
   "metadata": {},
   "source": [
    "**2. Write a program that reads a string from keyboard and display:**\n",
    "<br>* The number of uppercase letters in the string\n",
    "<br>* The number of lowercase letters in the string\n",
    "<br>* The number of digits in the string\n",
    "<br>* The number of whitespace characters in the string "
   ]
  },
  {
   "cell_type": "code",
   "execution_count": 1,
   "id": "855143f7",
   "metadata": {},
   "outputs": [
    {
     "name": "stdin",
     "output_type": "stream",
     "text": [
      "Enter a string: Today is Friday\n"
     ]
    },
    {
     "name": "stdout",
     "output_type": "stream",
     "text": [
      "Quanity of uppercases: 2\n",
      "Quanity of lowercases: 11\n",
      "Quanity of digits: 0\n",
      "Quanity of space: 2\n"
     ]
    }
   ],
   "source": [
    "string = input('Enter a string:')\n",
    "upper = 0\n",
    "lower = 0\n",
    "digit = 0\n",
    "space = 0\n",
    "\n",
    "for i in string:\n",
    "    if i.isupper():\n",
    "        upper += 1\n",
    "    elif i.islower():\n",
    "        lower += 1\n",
    "    elif i.isdigit():\n",
    "        digit += 1\n",
    "    elif i == ' ':\n",
    "        space += 1\n",
    "print('Quanity of uppercases:', upper)\n",
    "print('Quanity of lowercases:', lower)\n",
    "print('Quanity of digits:', digit)\n",
    "print('Quanity of space:', space)"
   ]
  },
  {
   "cell_type": "markdown",
   "id": "cc4b2bea-3648-4abe-a444-b7948ea259f1",
   "metadata": {},
   "source": [
    "**3. Write a Python program that accepts a string from user. Your program should create and display a new string where the first and last characters have been exchanged.**"
   ]
  },
  {
   "cell_type": "code",
   "execution_count": 2,
   "id": "9033d84a",
   "metadata": {},
   "outputs": [
    {
     "name": "stdin",
     "output_type": "stream",
     "text": [
      "Enter a string: Hi there\n"
     ]
    },
    {
     "name": "stdout",
     "output_type": "stream",
     "text": [
      "New string is: ei therH\n"
     ]
    }
   ],
   "source": [
    "string = input('Enter a string:')\n",
    "new_str = string[-1]+string[1:-1]+string[0]\n",
    "print('New string is:', new_str)"
   ]
  },
  {
   "cell_type": "markdown",
   "id": "68b555d1-9b03-4e25-b952-b12c00179e99",
   "metadata": {},
   "source": [
    "**4. Write a Python program that accepts a string from user. Your program should create a new string in reverse of first string and display it.**"
   ]
  },
  {
   "cell_type": "code",
   "execution_count": 5,
   "id": "fca612a5",
   "metadata": {},
   "outputs": [
    {
     "name": "stdin",
     "output_type": "stream",
     "text": [
      "Enter a string: Hello\n"
     ]
    },
    {
     "name": "stdout",
     "output_type": "stream",
     "text": [
      "New string is: olleH\n"
     ]
    }
   ],
   "source": [
    "string = input('Enter a string:')\n",
    "new_str = string[::-1]\n",
    "print('New string is:', new_str)"
   ]
  },
  {
   "cell_type": "markdown",
   "id": "686f7099-f8a9-4e55-8d88-493713fe79c7",
   "metadata": {},
   "source": [
    "**6. Write a program that asks the user to input his name and print its initials. Assuming that the user always types first name, middle name and last name and does not include any unnecessary spaces.**\r\n",
    "\r\n",
    "For example, if the user enters Ajay Kumar Garg the program should displ `A. K. G`hod"
   ]
  },
  {
   "cell_type": "code",
   "execution_count": 16,
   "id": "b18a2530-1630-4fe8-9501-95a99ef9f6f1",
   "metadata": {},
   "outputs": [
    {
     "data": {
      "text/plain": [
       "'N. P. T'"
      ]
     },
     "execution_count": 16,
     "metadata": {},
     "output_type": "execute_result"
    }
   ],
   "source": [
    "string = 'Nguyen Phuong Thao'\n",
    "str_split = string.split()\n",
    "initials = [word[0] for word in str_split]\n",
    "new_str = \". \".join(initials)\n",
    "new_str"
   ]
  },
  {
   "cell_type": "markdown",
   "id": "7ad45640-c604-451e-8705-3e813e0c78d0",
   "metadata": {},
   "source": [
    "**8. Write a program that display following output:**\r\n",
    "SHIFT\r\n",
    "HIFTS\r\n",
    "IFTSH\r\n",
    "FTSHI\r\n",
    "TSHIF\r\n",
    "SHIFT"
   ]
  },
  {
   "cell_type": "code",
   "execution_count": 21,
   "id": "67d3d574-c6b6-4cbe-98a1-3cf78895cd08",
   "metadata": {},
   "outputs": [
    {
     "name": "stdout",
     "output_type": "stream",
     "text": [
      "SHIFT\n",
      "HIFTS\n",
      "IFTSH\n",
      "FTSHI\n",
      "TSHIF\n",
      "SHIFT\n"
     ]
    }
   ],
   "source": [
    "origin_text = 'SHIFT'\n",
    "for i in range(0, 6):\n",
    "    text = origin_text[i:]+origin_text[:i]\n",
    "    print(text)"
   ]
  },
  {
   "cell_type": "code",
   "execution_count": null,
   "id": "09833289-9057-4d68-9272-337687eb976f",
   "metadata": {},
   "outputs": [],
   "source": []
  }
 ],
 "metadata": {
  "kernelspec": {
   "display_name": "Python 3 (ipykernel)",
   "language": "python",
   "name": "python3"
  },
  "language_info": {
   "codemirror_mode": {
    "name": "ipython",
    "version": 3
   },
   "file_extension": ".py",
   "mimetype": "text/x-python",
   "name": "python",
   "nbconvert_exporter": "python",
   "pygments_lexer": "ipython3",
   "version": "3.12.0"
  }
 },
 "nbformat": 4,
 "nbformat_minor": 5
}
