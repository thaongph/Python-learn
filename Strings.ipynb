{
 "cells": [
  {
   "cell_type": "markdown",
   "id": "5b03228f",
   "metadata": {},
   "source": [
    "**1. Write a program that accepts a string from user. Your program should count and display number of vowels in that string.**"
   ]
  },
  {
   "cell_type": "code",
   "execution_count": 2,
   "id": "2d2f231f",
   "metadata": {},
   "outputs": [
    {
     "name": "stdout",
     "output_type": "stream",
     "text": [
      "Enter a string:TOday is Thursday\n",
      "Number of vowels: 5\n"
     ]
    }
   ],
   "source": [
    "string = input('Enter a string:')\n",
    "vowel = 0\n",
    "\n",
    "for i in string:\n",
    "    if i in 'ueoaiUEOAI':\n",
    "        vowel += 1\n",
    "print('Number of vowels:', vowel)"
   ]
  },
  {
   "cell_type": "markdown",
   "id": "a9c2dc64",
   "metadata": {},
   "source": [
    "**2. Write a program that reads a string from keyboard and display:**\n",
    "<br>* The number of uppercase letters in the string\n",
    "<br>* The number of lowercase letters in the string\n",
    "<br>* The number of digits in the string\n",
    "<br>* The number of whitespace characters in the string "
   ]
  },
  {
   "cell_type": "code",
   "execution_count": null,
   "id": "855143f7",
   "metadata": {},
   "outputs": [],
   "source": [
    "string = input('Enter a string:')\n",
    "upper = 0\n",
    "lower = 0\n",
    "digit = 0\n",
    "space = 0\n",
    "\n",
    "for i in string:\n",
    "    if i in 'ueoaiUEOAI':\n",
    "        vowel += 1\n",
    "print('Number of vowels:', vowel)"
   ]
  },
  {
   "cell_type": "code",
   "execution_count": null,
   "id": "70756187",
   "metadata": {},
   "outputs": [],
   "source": []
  },
  {
   "cell_type": "code",
   "execution_count": null,
   "id": "9033d84a",
   "metadata": {},
   "outputs": [],
   "source": []
  },
  {
   "cell_type": "code",
   "execution_count": null,
   "id": "f2984495",
   "metadata": {},
   "outputs": [],
   "source": []
  },
  {
   "cell_type": "code",
   "execution_count": null,
   "id": "fca612a5",
   "metadata": {},
   "outputs": [],
   "source": []
  },
  {
   "cell_type": "code",
   "execution_count": null,
   "id": "fc5ea3ab",
   "metadata": {},
   "outputs": [],
   "source": []
  }
 ],
 "metadata": {
  "kernelspec": {
   "display_name": "Python 3 (ipykernel)",
   "language": "python",
   "name": "python3"
  },
  "language_info": {
   "codemirror_mode": {
    "name": "ipython",
    "version": 3
   },
   "file_extension": ".py",
   "mimetype": "text/x-python",
   "name": "python",
   "nbconvert_exporter": "python",
   "pygments_lexer": "ipython3",
   "version": "3.10.9"
  }
 },
 "nbformat": 4,
 "nbformat_minor": 5
}
