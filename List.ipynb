{
 "cells": [
  {
   "cell_type": "markdown",
   "metadata": {},
   "source": [
    "**1. Write a program that accepts a list from user and print the alternate element of list.**"
   ]
  },
  {
   "cell_type": "code",
   "execution_count": 2,
   "metadata": {},
   "outputs": [
    {
     "name": "stdout",
     "output_type": "stream",
     "text": [
      "Your list:  [0, 1, 2, 3, 4, 5, 6, 7, 8, 9, 10, 11]\n",
      "Alternate elements of your list:  [0, 2, 4, 6, 8, 10]\n"
     ]
    }
   ],
   "source": [
    "size = int(input(\"Enter the quantity of elements you want in your list: \"))\n",
    "\n",
    "list1 = []\n",
    "alternate =[]\n",
    "\n",
    "for data in range(size):\n",
    "    list1.append(data)\n",
    "print('Your list: ', list1)\n",
    "\n",
    "for index in range(0, size):\n",
    "    if index % 2 == 0: \n",
    "        alternate.append(list1[index])\n",
    "\n",
    "print('Alternate elements of your list: ', alternate)"
   ]
  },
  {
   "cell_type": "markdown",
   "metadata": {},
   "source": [
    "**2. Write a program that accepts a list from user. Your program should reverse the content of list and display it. Do not use reverse() method.**"
   ]
  },
  {
   "cell_type": "code",
   "execution_count": 40,
   "metadata": {},
   "outputs": [
    {
     "name": "stdout",
     "output_type": "stream",
     "text": [
      "Enter your list: 123\n",
      "3\n",
      "2\n",
      "1\n"
     ]
    }
   ],
   "source": [
    "lst = list(input('Enter your list: '))\n",
    "\n",
    "for i in range(1,len(lst)):\n",
    "        print(lst[-i])\n",
    "print(lst[0])"
   ]
  },
  {
   "cell_type": "code",
   "execution_count": 37,
   "metadata": {},
   "outputs": [
    {
     "name": "stdout",
     "output_type": "stream",
     "text": [
      "Enter your list: 123\n"
     ]
    },
    {
     "data": {
      "text/plain": [
       "['1', '2', '3']"
      ]
     },
     "execution_count": 37,
     "metadata": {},
     "output_type": "execute_result"
    }
   ],
   "source": [
    "lst = list(input('Enter your list: '))\n",
    "lst"
   ]
  },
  {
   "cell_type": "code",
   "execution_count": 48,
   "metadata": {},
   "outputs": [
    {
     "name": "stdout",
     "output_type": "stream",
     "text": [
      "How many elements in your list? 3\n",
      "Enter 3 elements:\n",
      "2\n",
      "5\n",
      "6\n",
      "[6, 5, 2]\n"
     ]
    }
   ],
   "source": [
    "lst = []\n",
    "size = int(input('How many elements in your list? '))\n",
    "print('Enter', size, 'elements:')\n",
    "\n",
    "for i in range(size):\n",
    "    num = int(input())\n",
    "    lst.append(num)\n",
    "\n",
    "reverse_lst = []\n",
    "for i in range(1,len(lst)):\n",
    "    reverse_lst.append(lst[-i])\n",
    "reverse_lst.append(lst[0])\n",
    "\n",
    "print(reverse_lst)"
   ]
  },
  {
   "cell_type": "code",
   "execution_count": 43,
   "metadata": {},
   "outputs": [
    {
     "data": {
      "text/plain": [
       "4"
      ]
     },
     "execution_count": 43,
     "metadata": {},
     "output_type": "execute_result"
    }
   ],
   "source": [
    "lst1 = [43, 12, 23, 12]\n",
    "len(lst1)"
   ]
  },
  {
   "cell_type": "markdown",
   "metadata": {},
   "source": [
    "**3. Find and display the largest number of a list without using built-in function max(). Your program should ask the user to input values in list from keyboard.**"
   ]
  },
  {
   "cell_type": "code",
   "execution_count": 3,
   "metadata": {},
   "outputs": [
    {
     "name": "stdout",
     "output_type": "stream",
     "text": [
      "How many numbers are there in your list? 4\n",
      "Enter 4 numbers here:\n",
      "23\n",
      "12\n",
      "56\n",
      "-55\n",
      "The largest number in your list is: 56\n"
     ]
    }
   ],
   "source": [
    "size = int(input('How many numbers are there in your list? '))\n",
    "lst = []\n",
    "print('Enter', size, 'numbers here:')\n",
    "\n",
    "# create a list while user enters numbers:\n",
    "for i in range(size):\n",
    "    num = int(input())\n",
    "    lst.append(num)\n",
    "    \n",
    "def largest(n):\n",
    "    return n - 0\n",
    "lst.sort(key = largest)\n",
    "print('The largest number in your list is:' ,lst[-1])"
   ]
  },
  {
   "cell_type": "markdown",
   "metadata": {},
   "source": [
    "**4. Write a program that rotates the element of a list so that the element at the first index moves to the second index, the element in the second index moves to the third index, etc., and the element in the last index moves to the first index.**"
   ]
  },
  {
   "cell_type": "code",
   "execution_count": 11,
   "metadata": {},
   "outputs": [
    {
     "data": {
      "text/plain": [
       "[56, 12, 34, 'hello']"
      ]
     },
     "execution_count": 11,
     "metadata": {},
     "output_type": "execute_result"
    }
   ],
   "source": [
    "def func(lst1):\n",
    "    lst1.insert(0,lst1[-1])\n",
    "    lst1.pop(-1)\n",
    "    return lst1\n",
    "list1 = [12, 34, 'hello', 56]\n",
    "func(list1)"
   ]
  },
  {
   "cell_type": "markdown",
   "metadata": {},
   "source": [
    "**5. Write a program that input a string and ask user to delete a given word from a string.**"
   ]
  },
  {
   "cell_type": "code",
   "execution_count": 20,
   "metadata": {},
   "outputs": [
    {
     "name": "stdout",
     "output_type": "stream",
     "text": [
      "Enter a string: Hello, I am hard working. I am doing excercises.\n",
      "Which word you want to delete? hi\n",
      "There is no hi in your string.\n"
     ]
    }
   ],
   "source": [
    "string = input('Enter a string: ')\n",
    "lst = string.split()\n",
    "word = input('Which word you want to delete? ')\n",
    "status = False\n",
    "for drop in lst:\n",
    "    if drop == word:\n",
    "        lst.remove(drop)\n",
    "        status = True\n",
    "if status == True:\n",
    "    newstring = ' '.join(lst)\n",
    "    print('Your new string is: ', newstring)\n",
    "else:\n",
    "    print('There is no', word, 'in your string.')"
   ]
  },
  {
   "cell_type": "markdown",
   "metadata": {},
   "source": [
    "**6. Write a program that reads a string from the user containing a date in the form mm/dd/yyyy. It should print the date in the form March 12, 2021.**"
   ]
  },
  {
   "cell_type": "code",
   "execution_count": 16,
   "metadata": {},
   "outputs": [
    {
     "name": "stdout",
     "output_type": "stream",
     "text": [
      "Enter a date (mm/dd/yyy): 12/1/2024\n",
      "Re-format:  Dec 1 , 2024\n"
     ]
    }
   ],
   "source": [
    "date = input('Enter a date (mm/dd/yyy): ')\n",
    "string = date.split('/')\n",
    "mm = string[0]\n",
    "dd = string[1]\n",
    "yyyy = string[2]\n",
    "month = ''\n",
    "for x in mm:\n",
    "    if x == 1:\n",
    "        month = 'Jan'\n",
    "    elif x == 2:\n",
    "        month = 'Feb'\n",
    "    elif x == 3:\n",
    "        month = 'Mar'\n",
    "    elif x == 4:\n",
    "        month = 'Apr'\n",
    "    elif x == 5:\n",
    "        month = 'May'\n",
    "    elif x == 6:\n",
    "        month = 'Jun'\n",
    "    elif x == 7:\n",
    "        month = 'Jul'\n",
    "    elif x == 8:\n",
    "        month = 'Aug'\n",
    "    elif x == 9:\n",
    "        month = 'Sep'\n",
    "    elif x ==10:\n",
    "        month = 'Oct'\n",
    "    elif x == 11:\n",
    "        month = 'Nov'\n",
    "    else:\n",
    "        month = 'Dec'\n",
    "        \n",
    "print('Re-format: ', month, dd,',', yyyy)"
   ]
  },
  {
   "cell_type": "code",
   "execution_count": 3,
   "metadata": {},
   "outputs": [
    {
     "name": "stdout",
     "output_type": "stream",
     "text": [
      "2024-04-02 17:29:27.703174\n"
     ]
    }
   ],
   "source": [
    "import datetime\n",
    "\n",
    "x = datetime.datetime.now()\n",
    "print(x)"
   ]
  },
  {
   "cell_type": "markdown",
   "metadata": {},
   "source": [
    "**7. Write a program with a function that accepts a string from keyboard and create a new string after converting character of each word capitalized.**"
   ]
  },
  {
   "cell_type": "code",
   "execution_count": 20,
   "metadata": {},
   "outputs": [
    {
     "name": "stdout",
     "output_type": "stream",
     "text": [
      "Enter your string: Today, it is sunny.\n",
      "Today, It Is Sunny.\n"
     ]
    }
   ],
   "source": [
    "string = input('Enter your string: ')\n",
    "lst = string.split()\n",
    "newlst = []\n",
    "for word in lst:\n",
    "    newword = str.capitalize(word) # capitalize() is an attribute of str\n",
    "    newlst.append(newword)\n",
    "newstr = ' '.join(newlst)\n",
    "print(newstr)"
   ]
  },
  {
   "cell_type": "markdown",
   "metadata": {},
   "source": [
    "**8. Find the sum of each row of matrix of size m x n.**"
   ]
  },
  {
   "cell_type": "code",
   "execution_count": 21,
   "metadata": {},
   "outputs": [
    {
     "name": "stdout",
     "output_type": "stream",
     "text": [
      "[1, 2, 3]\n",
      "[4, 5, 6]\n",
      "[7, 8, 9]\n"
     ]
    }
   ],
   "source": [
    "# create a matrix\n",
    "\n",
    "# Define the matrix as a list of lists\n",
    "matrix = [\n",
    "    [1, 2, 3],\n",
    "    [4, 5, 6],\n",
    "    [7, 8, 9]\n",
    "]\n",
    "\n",
    "# Print the matrix\n",
    "for row in matrix:\n",
    "    print(row)"
   ]
  },
  {
   "cell_type": "code",
   "execution_count": 24,
   "metadata": {},
   "outputs": [
    {
     "name": "stdout",
     "output_type": "stream",
     "text": [
      "[4, 9, 10]\n"
     ]
    }
   ],
   "source": [
    "nums = [random.randint(0,11) for _ in range(3)]\n",
    "print(nums)\n",
    "\n",
    "# method randint of random take both the start and the end number"
   ]
  },
  {
   "cell_type": "code",
   "execution_count": 10,
   "metadata": {},
   "outputs": [
    {
     "name": "stdout",
     "output_type": "stream",
     "text": [
      "How many columns in your matrix? 3\n",
      "How many rows in your matrix? 2\n",
      "1 0 2 \n",
      "6 4 6 \n",
      "Sum of row 1 : 3\n",
      "Sum of row 2 : 16\n"
     ]
    }
   ],
   "source": [
    "col = int(input('How many columns in your matrix? '))\n",
    "row = int(input('How many rows in your matrix? '))\n",
    "import random\n",
    "\n",
    "# create a matrix base on row and col:\n",
    "matrix = []\n",
    "for i in range(row):\n",
    "    num = []\n",
    "    for j in range(col):\n",
    "        num.append(random.randint(0, col*row))\n",
    "    matrix.append(num)\n",
    "    \n",
    "# print the matrix:\n",
    "for i in range(row):\n",
    "    for j in range(col):\n",
    "        print(matrix[i][j], end = \" \") # keyword end = \" \" helps to put space between items in a row. If don't have keyword 'end', each item be put in a new line.\n",
    "    print() # this is to start a new row. If don't have, the print above will print all items in 1 row only.\n",
    "    \n",
    "# sum each row:\n",
    "for i in range(row):\n",
    "    sum_row = sum(matrix[i])\n",
    "    print(\"Sum of row\",i+1,\":\", sum_row)"
   ]
  }
 ],
 "metadata": {
  "kernelspec": {
   "display_name": "Python 3 (ipykernel)",
   "language": "python",
   "name": "python3"
  },
  "language_info": {
   "codemirror_mode": {
    "name": "ipython",
    "version": 3
   },
   "file_extension": ".py",
   "mimetype": "text/x-python",
   "name": "python",
   "nbconvert_exporter": "python",
   "pygments_lexer": "ipython3",
   "version": "3.10.9"
  }
 },
 "nbformat": 4,
 "nbformat_minor": 2
}
