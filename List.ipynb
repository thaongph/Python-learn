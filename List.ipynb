{
 "cells": [
  {
   "cell_type": "markdown",
   "metadata": {},
   "source": [
    "**1. Write a program that accepts a list from user and print the alternate element of list.**"
   ]
  },
  {
   "cell_type": "code",
   "execution_count": 2,
   "metadata": {},
   "outputs": [
    {
     "name": "stdout",
     "output_type": "stream",
     "text": [
      "Your list:  [0, 1, 2, 3, 4, 5, 6, 7, 8, 9, 10, 11]\n",
      "Alternate elements of your list:  [0, 2, 4, 6, 8, 10]\n"
     ]
    }
   ],
   "source": [
    "size = int(input(\"Enter the quantity of elements you want in your list: \"))\n",
    "\n",
    "list1 = []\n",
    "alternate =[]\n",
    "\n",
    "for data in range(size):\n",
    "    list1.append(data)\n",
    "print('Your list: ', list1)\n",
    "\n",
    "for index in range(0, size):\n",
    "    if index % 2 == 0: \n",
    "        alternate.append(list1[index])\n",
    "\n",
    "print('Alternate elements of your list: ', alternate)"
   ]
  },
  {
   "cell_type": "markdown",
   "metadata": {},
   "source": []
  }
 ],
 "metadata": {
  "kernelspec": {
   "display_name": "Python 3",
   "language": "python",
   "name": "python3"
  },
  "language_info": {
   "codemirror_mode": {
    "name": "ipython",
    "version": 3
   },
   "file_extension": ".py",
   "mimetype": "text/x-python",
   "name": "python",
   "nbconvert_exporter": "python",
   "pygments_lexer": "ipython3",
   "version": "3.12.0"
  }
 },
 "nbformat": 4,
 "nbformat_minor": 2
}
